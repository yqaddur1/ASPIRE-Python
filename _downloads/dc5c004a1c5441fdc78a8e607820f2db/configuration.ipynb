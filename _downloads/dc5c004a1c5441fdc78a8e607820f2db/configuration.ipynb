{
  "cells": [
    {
      "cell_type": "code",
      "execution_count": null,
      "metadata": {
        "collapsed": false
      },
      "outputs": [],
      "source": [
        "%matplotlib inline"
      ]
    },
    {
      "cell_type": "markdown",
      "metadata": {},
      "source": [
        "\n# ASPIRE Configuration\n\nThis tutorial reviews the default ASPIRE configuration\nand common patterns for overriding.\n"
      ]
    },
    {
      "cell_type": "markdown",
      "metadata": {},
      "source": [
        "## Default Configuration\nASPIRE uses the `confuse library`_ for managing configuration.\nWhile this document should cover common uses,\nadvanced users and developers should consider reviewing their documentation.\n\nThe ASPIRE package ships with ``config_default.yaml``.\nThis represents a base configuration.\nThe shipped configuration for this version of ASPIRE is:\n\n.. literalinclude:: ../../../src/aspire/config_default.yaml\n\n"
      ]
    },
    {
      "cell_type": "markdown",
      "metadata": {},
      "source": [
        "## System Overrides\nFrom here we can override with a custom config file in your home dir,\nspecifically ``$HOME/.config/ASPIRE/config.yaml`` on most Linux platforms.\nItems in this file will take precedence over the default configuration.\nFor other platforms, refer to the `confuse` documentation.\n\nAs an example, suppose you want to change the ``ray`` ``temp_dir`` variable\nwhen working on a specific machine.\nBy creating ``$HOME/.config/ASPIRE/config.yaml`` with the following contents\non that machine, ASPIRE's configuration utility will overload\nthe ``temp_dir`` directory from a ``/tmp/ray`` folder to ``/scratch/tmp/ray``.\n\n```yaml\nray:\n  temp_dir: /scratch/tmp/ray\n```\n"
      ]
    },
    {
      "cell_type": "markdown",
      "metadata": {},
      "source": [
        "## Override Configuration Directory\nUsers may specify a directory containing the configuration file.\nThis is done by using the enviornment variable ``ASPIREDIR``\nIf you wanted a file in your working directory to take\nprecedence over system-overrides, we can create a local ``config.yaml``.\n\nSuppose you want to store ASPIRE logs at ``/tmp/my_proj/aspire_logs``\nwhen working on a specific project. Create the following ``config.yaml``.\n\n```yaml\nlogging:\n  log_dir: /tmp/my_proj/aspire_logs\n```\nThis directory must then be set before invoking any code.\n\n```bash\nexport ASPIREDIR=$PWD\n```\nSimilarly, you could specify any directory you like that might contain a configuration.\nThis allows you to store configurations for reuse.\n\n"
      ]
    },
    {
      "cell_type": "markdown",
      "metadata": {},
      "source": [
        "## In-Code Overrides\nYou can also specify your own file from an arbitrary location from within Python code.\nFor precise behavior refer to the confuse documentation.\n\n```python\naspire.config.set_file('/path/to/some_experimental_config.yaml')\n```\nOr simply set specific variables as needed.\nHere we will disable progress bars displayed by\n``aspire.utils.trange`` and ``aspire.utils.tqdm``.\n\n\n"
      ]
    },
    {
      "cell_type": "code",
      "execution_count": null,
      "metadata": {
        "collapsed": false
      },
      "outputs": [],
      "source": [
        "import time\n\nfrom aspire import config\nfrom aspire.utils import trange\n\n# Progress bars are displayed by default.\n\nprint(\"Disabling progress bars\")\nconfig[\"logging\"][\"tqdm_disable\"] = True\n\nfor _ in trange(3):\n    time.sleep(1)\nprint(\"Done Loop 1\\n\")\n\nprint(\"Re-enabling progress bars\")\nconfig[\"logging\"][\"tqdm_disable\"] = False\n\nfor _ in trange(3):\n    time.sleep(1)\nprint(\"Done Loop 2\\n\")"
      ]
    },
    {
      "cell_type": "markdown",
      "metadata": {},
      "source": [
        "## Resolution\nASPIRE logs the ``config_dir()`` for your system at startup,\nalong with the configuration sources and resolved configuration at import time.\nThis should give an accurate snapshot of the configuration before any in-code overrides.\nTo view these as saved in your log, you will need to locate your `log_dir`.\nIf you are not sure where it is, we can ask the config:\n\n"
      ]
    },
    {
      "cell_type": "code",
      "execution_count": null,
      "metadata": {
        "collapsed": false
      },
      "outputs": [],
      "source": [
        "import aspire\n\nprint(aspire.config[\"logging\"][\"log_dir\"].as_filename())"
      ]
    },
    {
      "cell_type": "markdown",
      "metadata": {},
      "source": [
        "You can also resolve the config in code\n\n"
      ]
    },
    {
      "cell_type": "code",
      "execution_count": null,
      "metadata": {
        "collapsed": false
      },
      "outputs": [],
      "source": [
        "print(aspire.config.dump())"
      ]
    },
    {
      "cell_type": "markdown",
      "metadata": {},
      "source": [
        "## Logging preferences\nThe \"Logging\" section contains options for controlling the verbosity and destination of log messages generated by ASPIRE.\n\nBy default, the ``log_dir`` is a directory called ``logs`` within the current working directory from which ASPIRE was invoked, but\nit can be changed to an absolute path (for instance, to go to the same folder as a custom configuration file stored elsewhere, such\nas in the example above):\n\n```yaml\nlogging:\n    log_dir=/tmp/my_proj/aspire_logs\n```\nASPIRE directs output streams to both the console and to a log file during each session. The logging verbosity for both of these\ncan be specified individually via ``console_level`` and ``log_file_level``. These levels are passed through to Python's logging\nsystem, so the labels are the same: ``\"DEBUG\", \"INFO\", \"WARNING\", \"ERROR\", \"CRITICAL\"``. In general, it may make sense to have the log file\nstore more verbose output than the console. By default, only ``INFO`` and above level messages are printed to the terminal, while\ndetailed ``DEBUG`` messages are saved to disk:\n\n```yaml\nlogging:\n    console_level: INFO\n    log_file_level: DEBUG\n```\nThe following modification would save all ``DEBUG`` messages to the log file, but only print ``ERROR`` and ``CRITICAL`` messages\nin the terminal:\n\n```yaml\nlogging:\n    console_level: ERROR\n    log_file_level: DEBUG\n```\nBy default, the filename of the log file is ``aspire-{%Y-%m-%dT%H-%M-%S.%f}.log``. The prefix before the timestamp can be customized\nvia the ``log_prefix`` option.\n\nMore details on logging behavior in Python can be found in the `Python logging HOWTO`_.\n\n"
      ]
    },
    {
      "cell_type": "markdown",
      "metadata": {},
      "source": [
        "## Advanced logging options\nUsers with sophisticated knowledge of Python's ``logging`` library are able to directly work with the ``logging.conf`` file stored in\n``src/aspire`` in the source.\n\n.. literalinclude:: ../../../src/aspire/logging.conf\n\nThis file exposes options that ASPIRE's ``config.yaml`` does not, for example the precise formatting options for log messages. However,\nvalues from ASPIRE's configuration are passed through this file, so caution is needed when modifying it.\n\n"
      ]
    },
    {
      "cell_type": "markdown",
      "metadata": {},
      "source": [
        "\n"
      ]
    },
    {
      "cell_type": "markdown",
      "metadata": {},
      "source": [
        "\n"
      ]
    }
  ],
  "metadata": {
    "kernelspec": {
      "display_name": "Python 3",
      "language": "python",
      "name": "python3"
    },
    "language_info": {
      "codemirror_mode": {
        "name": "ipython",
        "version": 3
      },
      "file_extension": ".py",
      "mimetype": "text/x-python",
      "name": "python",
      "nbconvert_exporter": "python",
      "pygments_lexer": "ipython3",
      "version": "3.7.15"
    }
  },
  "nbformat": 4,
  "nbformat_minor": 0
}