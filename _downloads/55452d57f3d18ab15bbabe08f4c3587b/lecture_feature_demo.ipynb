{
  "cells": [
    {
      "cell_type": "code",
      "execution_count": null,
      "metadata": {
        "collapsed": false
      },
      "outputs": [],
      "source": [
        "%matplotlib inline"
      ]
    },
    {
      "cell_type": "markdown",
      "metadata": {},
      "source": [
        "\n# ASPIRE-Python Introduction\n\nIn this notebook we will introduce some code from ASPIRE-Python\nthat corresponds to topics from MATH586.\n"
      ]
    },
    {
      "cell_type": "markdown",
      "metadata": {},
      "source": [
        "## Imports\nFirst we import some of the usual suspects. In addition, we import some classes from\nthe ASPIRE package that we will use throughout this tutorial.\n\n"
      ]
    },
    {
      "cell_type": "markdown",
      "metadata": {},
      "source": [
        "### Homework Task 0\n\nAttempt to install ASPIRE on your machine. ASPIRE can generally install on\nLinux, Mac, and Windows\nunder Anaconda Python, by following the instructions in the README.\n[The instructions for developers is the most comprehensive](https://github.com/ComputationalCryoEM/ASPIRE-Python/blob/master/README.md#for-developers).\nLinux is the most tested platform.\n\nASPIRE requires some resources to run, so if you wouldn't run typical data\nscience codes on your machine (maybe a netbook for example),\nyou may use TigerCPU. After logging into TigerCPU,\n``module load anaconda3/2020.7`` and follow the anaconda instructions for\ndevelopers in the link above.\nThose instructions should create a working environment for tinkering with\nASPIRE code found in this notebook.\n\n"
      ]
    },
    {
      "cell_type": "code",
      "execution_count": null,
      "metadata": {
        "collapsed": false
      },
      "outputs": [],
      "source": [
        "import logging\nimport os\n\nimport matplotlib.pyplot as plt\nimport numpy as np\n\nfrom aspire.abinitio import CLSyncVoting\nfrom aspire.noise import (\n    AnisotropicNoiseEstimator,\n    CustomNoiseAdder,\n    WhiteNoiseAdder,\n    WhiteNoiseEstimator,\n)\nfrom aspire.operators import FunctionFilter, RadialCTFFilter\nfrom aspire.source import RelionSource, Simulation\nfrom aspire.utils import (\n    Rotation,\n    get_aligned_rotations,\n    get_rots_mse,\n    register_rotations,\n)\nfrom aspire.volume import Volume\n\nlogger = logging.getLogger(__name__)"
      ]
    },
    {
      "cell_type": "markdown",
      "metadata": {},
      "source": [
        "## ``Image`` Class\n\nThe [Image](https://computationalcryoem.github.io/ASPIRE-Python/aspire.image.html#aspire.image.image.Image) class\nis a thin wrapper over numpy arrays for a stack containing 1 or more images.\nIn this notebook we won't be working directly with the ``Image`` class a lot, but it will be one of the fundemental structures behind the scenes.\nA lot of ASPIRE code passes around ``Image`` and ``Volume`` classes.\n\nExamples of using the Image class can be found in:\n\n- ``gallery/tutorials/basic_image_array.py``\n\n- ``gallery/tutorials/image_class.py``\n\n"
      ]
    },
    {
      "cell_type": "markdown",
      "metadata": {},
      "source": [
        "## ``Volume`` Class\n\nLike ``Image``, the [Volume](https://computationalcryoem.github.io/ASPIRE-Python/aspire.volume.html#aspire.volume.Volume) class\nis a thin wrapper over numpy arrays that provides specialized methods for a stack containing 1 or more volumes.\n\nHere we will instantiate a Volume using a numpy array and use it to downsample to a desired resolution (64 should be good).\nFor the data source I chose to download a real volume density map from [EMDB](https://www.ebi.ac.uk/pdbe/entry/emdb/EMD-2660).\nThe download was uncompressed in my local directory.  The notebook defaults to a small low resolution sample file you may use to sanity check.\nUnfortunately real data can be quite large so we do not ship it with the repo.\n\n"
      ]
    },
    {
      "cell_type": "markdown",
      "metadata": {},
      "source": [
        "### Homework Task 1\n\n- Starting from [EMPIAR](https://www.ebi.ac.uk/pdbe/emdb/empiar/) find a molecule of interest and try to\nfind if it has a corresponding volume density map from [EMDB](https://www.ebi.ac.uk/pdbe/emdb).\n\n- Download such a map and use it in the following experiments where I have used 2660.\n\nHelpful friendly hint:\n`mrcfile` will typically open `.map` files provided by EMDB, corresponding to an EMPIAR entry.\nThis was not obvious to me, but you may [read more about the format here](https://www.emdataresource.org/mapformat.html).\n\n"
      ]
    },
    {
      "cell_type": "markdown",
      "metadata": {},
      "source": [
        "## Initialize Volume\n\n"
      ]
    },
    {
      "cell_type": "code",
      "execution_count": null,
      "metadata": {
        "collapsed": false
      },
      "outputs": [],
      "source": [
        "# A low res example file is included in the repo as a sanity check.\n# We can instantiate this as an ASPIRE Volume instance using ``Volume.load()``.\nDATA_DIR = \"data\"\nv = Volume.load(os.path.join(DATA_DIR, \"clean70SRibosome_vol_65p.mrc\"))\n\n# More interesting data requires downloading locally.\n# v = Volume.load(\"EMD-2660/map/emd_2660.map\")\n\n# Downsample the volume to a desired resolution\nimg_size = 64\n# Volume.downsample() Returns a new Volume instance.\n#   We will use this lower resolution volume later.\nv2 = v.downsample(img_size)\nL = v2.resolution"
      ]
    },
    {
      "cell_type": "markdown",
      "metadata": {},
      "source": [
        "## Contour Plot of Data\n\n"
      ]
    },
    {
      "cell_type": "code",
      "execution_count": null,
      "metadata": {
        "collapsed": false
      },
      "outputs": [],
      "source": [
        "# Alternatively, for quick sanity checking purposes we can view as a contour plot.\n#   We'll use three orthographic projections, one per axis.\nfor axis in range(3):\n    plt.contourf(np.arange(L), np.arange(L), np.sum(v2[0], axis=axis), cmap=\"gray\")\n    plt.show()"
      ]
    },
    {
      "cell_type": "markdown",
      "metadata": {},
      "source": [
        "## Scatter Plot\n\n"
      ]
    },
    {
      "cell_type": "code",
      "execution_count": null,
      "metadata": {
        "collapsed": false
      },
      "outputs": [],
      "source": [
        "# We can attempt a 3d scatter plot, but the results aren't very good.\nx, y, z = np.meshgrid(np.arange(L), np.arange(L), np.arange(L))\nax = plt.axes(projection=\"3d\")\nax.scatter3D(x, y, z, c=np.log10(v2.flatten()), cmap=\"Greys_r\")\nplt.show()"
      ]
    },
    {
      "cell_type": "markdown",
      "metadata": {},
      "source": [
        "### Homework Task 2\n\nAbove I have used a simple log transform with a scatter plot to peek at the 3D data.\nThis was mainly just to make sure the data was in the neighborhood of what I was looking for.\nMore commonly we will want to construct an ``isosurface`` plot.\nTry to create a better plot of the volume (this will probably require more advanced tools than matplotlib).\n\n"
      ]
    },
    {
      "cell_type": "markdown",
      "metadata": {},
      "source": [
        "## ``Rotation`` Class - Generating Random Rotations\n\nTo get general projections this brings us to generating random rotations which we will apply to our volume.\n\nWhile you may bring your own 3x3 matrices or generate manually (say from your own Euler angles),\nASPIRE has a [Rotation class](https://computationalcryoem.github.io/ASPIRE-Python/aspire.utils.html#module-aspire.utils.rotation)\nwhich can do this random rotation generation for us.  It also has some other utility methods if you would want to compare with something manual.\n\nThe following code will generate some random rotations, and use the ``Volume.project()`` method to return an ``Image`` instance representing the stack of projections.\nWe can display projection images using the ``Image.show()`` method.\n\n"
      ]
    },
    {
      "cell_type": "code",
      "execution_count": null,
      "metadata": {
        "collapsed": false
      },
      "outputs": [],
      "source": [
        "num_rotations = 2\nrots = Rotation.generate_random_rotations(n=num_rotations, seed=12345)\n\n# We can access the numpy array holding the actual stack of 3x3 matrices:\nlogger.info(rots)\nlogger.info(rots.matrices)\n\n# Using the first (and in this case, only) volume, compute projections using the stack of rotations:\nprojections = v.project(0, rots)\n\n# project() returns an Image instance.\nlogger.info(projections)\nprojections.show()\n# Neat, we've generated random projections of some real data."
      ]
    },
    {
      "cell_type": "markdown",
      "metadata": {},
      "source": [
        "## The ``source`` Package\n\n[aspire.source](https://computationalcryoem.github.io/ASPIRE-Python/aspire.source.html#module-aspire.source.simulation)\npackage contains a collection of data source interfaces.\nThe idea is that we can design an experiment using a synthetic ``Simulation`` source or our own provided array via ``ArrayImageSource``;\nthen later swap out the source for a large experimental data set using something like ``RelionSource``.\n\nWe do this because the experimental datasets are too large to fit in memory.\nThey cannot be provided as a massive large array, and instead require methods to orchestrate batching.\nDepending on the application, they may also require corresponding batched algorithms.\nThe ``Source`` classes try to make most of this opaque to an end user.  Ideally we can swap one source for another.\n\nFor now we will build up to the creation and application of synthetic data set based on the real volume data used previously.\n\n"
      ]
    },
    {
      "cell_type": "markdown",
      "metadata": {},
      "source": [
        "## ``Simulation`` Class\n\nGenerating realistic synthetic data sources is a common task.\nThe process of generating then projecting random rotations is integrated into the\n[Simulation](https://computationalcryoem.github.io/ASPIRE-Python/aspire.source.html#module-aspire.source.simulation) class.\nUsing ``Simulation``, we can generate arbitrary numbers of projections for use in experiments.\nLater we will demonstrate additional features which allow us to create more realistic data sources.\n\n"
      ]
    },
    {
      "cell_type": "code",
      "execution_count": null,
      "metadata": {
        "collapsed": false
      },
      "outputs": [],
      "source": [
        "num_imgs = 100  # How many images in our source.\n# Generate a Simulation instance based on the original volume data.\nsim = Simulation(L=v.resolution, n=num_imgs, vols=v)\n# Display the first 10 images\nsim.images[:10].show()  # Hi Res\n\n# Repeat for the lower resolution (downsampled) volume v2.\nsim2 = Simulation(L=v2.resolution, n=num_imgs, vols=v2)\nsim2.images[:10].show()  # Lo Res\n\n# Note both of those simulations have the same rotations\n#   because they had the same seed by default,\n# We can set our own seed to get a different random samples (of rotations).\nsim_seed = Simulation(L=v.resolution, n=num_imgs, vols=v, seed=42)\nsim_seed.images[:10].show()\n\n# We can also view the rotations used to create these projections\n# logger.info(sim2.rotations)  # Commented due to long output"
      ]
    },
    {
      "cell_type": "markdown",
      "metadata": {},
      "source": [
        "## Simulation with Noise - Filters\n\n### Filters\n\n[Filters](https://computationalcryoem.github.io/ASPIRE-Python/aspire.operators.html#module-aspire.operators.filters)\nare a collection of classes which once configured can be applied to ``Source`` pipelines.\nCommon filters we might use are ``ScalarFilter``, ``PowerFilter``, ``FunctionFilter``, and ``CTFFilter``.\n\n### Adding to Simulation\n\nWe can customize Sources by adding stages to their generation pipeline.\nIn this case of a Simulation source, we want to corrupt the projection images with significant noise.\n\nFirst we create a constant two dimension filter (constant value set to our desired noise variance).\nThen when used in the ``noise_filter``, this scalar will be multiplied by a random sample.\nSimilar to before, if you require a different sample, this would be controlled via a ``seed``.\n\n"
      ]
    },
    {
      "cell_type": "code",
      "execution_count": null,
      "metadata": {
        "collapsed": false
      },
      "outputs": [],
      "source": [
        "# Using the sample variance, we'll compute a target noise variance\nvar = np.var(sim2.images[:].asnumpy())\nlogger.info(f\"sim2 clean sample var {var}\")\nnoise_variance = 100.0 * var\nlogger.info(f\"noise var {noise_variance}\")\n\n# Then create a CustomNoiseAdder based on that variance.\nwhite_noise_adder = WhiteNoiseAdder(var=noise_variance)\n# We can create a similar simulation with this additional noise_filter argument:\nsim3 = Simulation(L=v2.resolution, n=num_imgs, vols=v2, noise_adder=white_noise_adder)\nsim3.images[:10].show()\n# These should be rather noisy now ..."
      ]
    },
    {
      "cell_type": "markdown",
      "metadata": {},
      "source": [
        "## Common Line Estimation\n\nNow we can create a CL instance for estimating orientation of projections using the Common Line with synchronization method.\n\nWe will import [CLSyncVoting]((https://computationalcryoem.github.io/ASPIRE-Python/aspire.abinitio.html?highlight=clsyncvoting#aspire.abinitio.commonline_sync.CLSyncVoting),\nthen several helper utilities fron the ``coor_trans`` package to help verify our estimates.\n\nFor each iteration in the loop:\n- Save the true rotations\n- Compute orientation estimate using CLSyncVoting method\n- Compare the estimated vs true rotations\n\nEach iteration will logger.info some diagnostic information that contains the top eigenvalues found.\nFrom class we learned that a healthy eigendistribution should have a significant gap after the third eigenvalue.\nIt is clear we have such eigenspacing for the clean images, but not for the noisy images.\n\n"
      ]
    },
    {
      "cell_type": "code",
      "execution_count": null,
      "metadata": {
        "collapsed": false
      },
      "outputs": [],
      "source": [
        "for desc, _sim in [\n    (\"High Res\", sim),\n    (\"Downsampled\", sim2),\n    (\"Downsampled with Noise\", sim3),\n]:\n    logger.info(desc)\n    true_rotations = _sim.rotations  # for later comparison\n\n    orient_est = CLSyncVoting(_sim, n_theta=36)\n    # Get the estimated rotations\n    orient_est.estimate_rotations()\n    rots_est = orient_est.rotations\n\n    # Compare with known true rotations\n    Q_mat, flag = register_rotations(rots_est, true_rotations)\n    regrot = get_aligned_rotations(rots_est, Q_mat, flag)\n    mse_reg = get_rots_mse(regrot, true_rotations)\n    logger.info(\n        f\"MSE deviation of the estimated rotations using register_rotations : {mse_reg}\\n\"\n    )"
      ]
    },
    {
      "cell_type": "markdown",
      "metadata": {},
      "source": [
        "### Homework Task 3\n\nWe confirmed a dramatic change in the eigenspacing when we add a lot of noise.\nCompute the SNR in this case using the formula described from class.\nRepeat the experiment with varying levels of SNR to find at what level the character of the eigenspacing changes.\nThis will require changing the Simulation Source's noise_filter.\nHow does this compare with the levels discussed in lecture?\n\n"
      ]
    },
    {
      "cell_type": "markdown",
      "metadata": {},
      "source": [
        "## More Advanced Noise - Whitening\n\nWe can estimate the noise across the stack of images\n\n### The ``noise`` Package\n\nThe [aspire.noise](https://computationalcryoem.github.io/ASPIRE-Python/aspire.noise.html)\npackage contains several useful classes for generating and estimating different types of noise.\n\nIn this case, we know the noise to be white, so we can proceed directly to\n[WhiteNoiseEstimator](https://computationalcryoem.github.io/ASPIRE-Python/aspire.noise.html#aspire.noise.noise.WhiteNoiseEstimator).  The noise estimators consume from a ``Source``.\n\nThe white noise estimator should log a diagnostic variance value. How does this compare with the known noise variance above?\n\n"
      ]
    },
    {
      "cell_type": "code",
      "execution_count": null,
      "metadata": {
        "collapsed": false
      },
      "outputs": [],
      "source": [
        "# Create another Simulation source to tinker with.\nsim_wht = Simulation(\n    L=v2.resolution, n=num_imgs, vols=v2, noise_adder=white_noise_adder\n)\n\n# Estimate the white noise.\nnoise_estimator = WhiteNoiseEstimator(sim_wht)"
      ]
    },
    {
      "cell_type": "markdown",
      "metadata": {},
      "source": [
        "## A Custom ``FunctionFilter``\n\nWe will now apply some more interesting noise, using a custom function, and then apply a ``whitening`` process to our data.\n\nUsing ``FunctionFilter`` we can create our own custom functions to apply in a pipeline.\nHere we want to apply a custom filter as a noise adder.  We can use a function of two variables for example.\n\n"
      ]
    },
    {
      "cell_type": "code",
      "execution_count": null,
      "metadata": {
        "collapsed": false
      },
      "outputs": [],
      "source": [
        "def noise_function(x, y):\n    return 1e-7 * np.exp(-(x * x + y * y) / (2 * 0.3**2))\n\n\n# In python, functions are first class objects.\n# We take advantage of that to pass this function around as a variable.\n# It will be evaluated later...\ncustom_noise = CustomNoiseAdder(noise_filter=FunctionFilter(noise_function))\n\n# Create yet another Simulation source to tinker with.\nsim4 = Simulation(L=v2.resolution, n=num_imgs, vols=v2, noise_adder=custom_noise)\nsim4.images[:10].show()"
      ]
    },
    {
      "cell_type": "markdown",
      "metadata": {},
      "source": [
        "## Noise Whitening\n\nApplying the ``Simulation.whiten()`` method just requires passing the filter corresponding to the estimated noise instance.\nThen we can inspect some of the whitened images.  While noise is still present, we can see a dramatic change.\n\n"
      ]
    },
    {
      "cell_type": "code",
      "execution_count": null,
      "metadata": {
        "collapsed": false
      },
      "outputs": [],
      "source": [
        "# Estimate noise.\naiso_noise_estimator = AnisotropicNoiseEstimator(sim4)\n\n# Whiten based on the estimated noise\nsim4.whiten(aiso_noise_estimator.filter)\n\n# What do the whitened images look like...\nsim4.images[:10].show()"
      ]
    },
    {
      "cell_type": "markdown",
      "metadata": {},
      "source": [
        "### Homework Task 4\n\nTry some other image preprocessing methods exposed by the ``Simulation``/``ImageSource`` classes.\n\nTry some other custom function to add noise or other corruptions to the images.\n\n"
      ]
    },
    {
      "cell_type": "markdown",
      "metadata": {},
      "source": [
        "## Real Experimental Data - ``RelionSource``\n\nNow that we know our experiment code seems to run,\nwe can try to replace the simulation with a real experimental data source.\n\nLets attempt the same CL experiment, but with a ``RelionSource``.\n\n"
      ]
    },
    {
      "cell_type": "code",
      "execution_count": null,
      "metadata": {
        "collapsed": false
      },
      "outputs": [],
      "source": [
        "src = RelionSource(\n    \"data/sample_relion_data.star\",\n    data_folder=\"\",\n    pixel_size=5.0,\n    max_rows=1024,\n)\n\n# Data resides on Tiger Cluster\n# Please make sure you are using a compute node once you've installed ASPIRE, not the head node...\n# src =  RelionSource(\n#    \"/tigress/gbwright/data/cryo-em/CryoEMdata/empiar10028/shiny_2sets.star\", data_folder=\"\", pixel_size=5.0, max_rows=100\n# )\nsrc.downsample(img_size)\n\nsrc.images[:10].show()\n\nnoise_estimator = WhiteNoiseEstimator(src)\nsrc.whiten(noise_estimator.filter)\n\norient_est = CLSyncVoting(src, n_theta=36)\norient_est.estimate_rotations()\nrots_est = orient_est.rotations"
      ]
    },
    {
      "cell_type": "markdown",
      "metadata": {},
      "source": [
        "We can see that the code can easily run with experimental data by subsituting the ``Source`` class.\nHowever, we have hit the practical limitation that requires class averaging of images....\n\n"
      ]
    },
    {
      "cell_type": "markdown",
      "metadata": {},
      "source": [
        "## CTF Filter\n\nHere we can use the ``RadialCTFFilter`` subclass of\n[CTFFilter](https://computationalcryoem.github.io/ASPIRE-Python/aspire.operators.html?highlight=ctffilter#aspire.operators.filters.CTFFilter)\nto generate some simulated images with CTF effects.\n\nWe use the ``unique_filter`` argument of the ``Simulation`` class to apply a collection of several CTFs with different defocus.\nThe defocus values are generated from the ``np.linspace`` method. We end up with a list of filters.\n\nBy combining CTFFilters, noise, and other filters ASPIRE can generate repeatable rich data sets with controlled parameters.\nThe ``Simulation`` class will attempt to apply transforms ``on the fly`` to batches of our images, allowing us to generate arbitrarily long stacks of data.\n\n"
      ]
    },
    {
      "cell_type": "code",
      "execution_count": null,
      "metadata": {
        "collapsed": false
      },
      "outputs": [],
      "source": [
        "# Specify the CTF parameters not used for this example\n# but necessary for initializing the simulation object\npixel_size = 5  # Pixel size of the images (in angstroms)\nvoltage = 200  # Voltage (in KV)\ndefocus_min = 1.5e4  # Minimum defocus value (in angstroms)\ndefocus_max = 2.5e4  # Maximum defocus value (in angstroms)\ndefocus_ct = 7  # Number of defocus groups.\nCs = 2.0  # Spherical aberration\nalpha = 0.1  # Amplitude contrast\n\n# Initialize simulation object with CTF filters.\n# Create CTF filters\nfilters = [\n    RadialCTFFilter(pixel_size, voltage, defocus=d, Cs=2.0, alpha=0.1)\n    for d in np.linspace(defocus_min, defocus_max, defocus_ct)\n]\n\nsim5 = Simulation(L=v2.resolution, n=num_imgs, vols=v2, unique_filters=filters)\nsim5.images[:10].show()\n\n\n# Here we will combine CTF and noise features to our projections.\nsim6 = Simulation(\n    L=v2.resolution,\n    n=num_imgs,\n    vols=v2,\n    unique_filters=filters,\n    noise_adder=custom_noise,\n)\nsim6.images[:10].show()\n\n# Estimate noise.\naiso_noise_estimator = AnisotropicNoiseEstimator(sim6)\n\n# Whiten based on the estimated noise\nsim6.whiten(aiso_noise_estimator.filter)\nsim6.images[:10].show()"
      ]
    }
  ],
  "metadata": {
    "kernelspec": {
      "display_name": "Python 3",
      "language": "python",
      "name": "python3"
    },
    "language_info": {
      "codemirror_mode": {
        "name": "ipython",
        "version": 3
      },
      "file_extension": ".py",
      "mimetype": "text/x-python",
      "name": "python",
      "nbconvert_exporter": "python",
      "pygments_lexer": "ipython3",
      "version": "3.7.15"
    }
  },
  "nbformat": 4,
  "nbformat_minor": 0
}