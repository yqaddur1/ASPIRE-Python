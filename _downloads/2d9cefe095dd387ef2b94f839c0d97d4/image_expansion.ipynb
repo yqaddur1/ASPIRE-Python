{
  "cells": [
    {
      "cell_type": "code",
      "execution_count": null,
      "metadata": {
        "collapsed": false
      },
      "outputs": [],
      "source": [
        "%matplotlib inline"
      ]
    },
    {
      "cell_type": "markdown",
      "metadata": {},
      "source": [
        "\n# Image Expansion\n\nThis script illustrates several expansion methods for 2D images developed in ASPIRE package\nbased on the basis functions of  Fourier-Bessel (FB) and prolate spheroidal wave function (PSWF).\n"
      ]
    },
    {
      "cell_type": "code",
      "execution_count": null,
      "metadata": {
        "collapsed": false
      },
      "outputs": [],
      "source": [
        "import logging\nimport os\nimport timeit\n\nimport matplotlib.pyplot as plt\nimport numpy as np\n\nfrom aspire.basis import FBBasis2D, FFBBasis2D, FPSWFBasis2D, PSWFBasis2D\nfrom aspire.utils import anorm\n\nlogger = logging.getLogger(__name__)\n\n\nlogger.info(\n    \"This script illustrates different image expansion methods in ASPIRE package.\"\n)"
      ]
    },
    {
      "cell_type": "markdown",
      "metadata": {},
      "source": [
        "## Load Initial Images\n\n"
      ]
    },
    {
      "cell_type": "code",
      "execution_count": null,
      "metadata": {
        "collapsed": false
      },
      "outputs": [],
      "source": [
        "# Load the images from NumPy array, 10 images of 70S Ribosome with size 129 x 129\nDATA_DIR = \"data\"\norg_images = np.load(os.path.join(DATA_DIR, \"example_data_np_array.npy\")).T\n\n# Set the sizes of images (129, 129)\nimg_size = 129"
      ]
    },
    {
      "cell_type": "markdown",
      "metadata": {},
      "source": [
        "## Expand Images with Normal Fourier-Bessel Basis Method\n\n"
      ]
    },
    {
      "cell_type": "code",
      "execution_count": null,
      "metadata": {
        "collapsed": false
      },
      "outputs": [],
      "source": [
        "# Specify the normal FB basis method for expanding the 2D image\n# Note, we'll set the Basis dtype to be the same as the `org_images` data,\n#  as good practice.\nfb_basis = FBBasis2D((img_size, img_size), dtype=org_images.dtype)\n\n# Get the expansion coefficients based on FB basis\nlogger.info(\"Start normal FB expansion of original images.\")\ntstart = timeit.default_timer()\nfb_coeffs = fb_basis.evaluate_t(org_images)\ntstop = timeit.default_timer()\ndtime = tstop - tstart\nlogger.info(f\"Finish normal FB expansion of original images in {dtime:.4f} seconds.\")\n\n# Reconstruct images from the expansion coefficients based on FB basis\nfb_images = fb_basis.evaluate(fb_coeffs).asnumpy()\nlogger.info(\"Finish reconstruction of images from normal FB expansion coefficients.\")\n\n# Calculate the mean value of maximum differences between the FB estimated images and the original images\nfb_meanmax = np.mean(np.max(abs(fb_images - org_images), axis=(1, 2)))\nlogger.info(\n    f\"Mean value of maximum differences between FB estimated images and original images: {fb_meanmax}\"\n)\n\n# Calculate the normalized RMSE of the FB estimated images\nfb_nrmse_ims = anorm(fb_images - org_images) / anorm(org_images)\nlogger.info(f\"FB estimated images normalized RMSE: {fb_nrmse_ims}\")\n\n# plot the first images using the normal FB method\nplt.subplot(1, 3, 1)\nplt.imshow(np.real(org_images[0]), cmap=\"gray\")\nplt.title(\"Original\")\nplt.subplot(1, 3, 2)\nplt.imshow(np.real(fb_images[0]), cmap=\"gray\")\nplt.title(\"FB Image\")\nplt.subplot(1, 3, 3)\nplt.imshow(np.real(org_images[0] - fb_images[0]), cmap=\"gray\")\nplt.title(\"Differences\")\nplt.tight_layout()"
      ]
    },
    {
      "cell_type": "markdown",
      "metadata": {},
      "source": [
        "## Expand Images with Fast FB Basis Method\n\n"
      ]
    },
    {
      "cell_type": "code",
      "execution_count": null,
      "metadata": {
        "collapsed": false
      },
      "outputs": [],
      "source": [
        "# Specify the fast FB basis method for expanding the 2D images\n# Note, we'll set the Basis dtype to be the same as the `org_image` data,\n#  as good practice.\nffb_basis = FFBBasis2D((img_size, img_size), dtype=org_images.dtype)\n\n# Get the expansion coefficients based on fast FB basis\nlogger.info(\"start fast FB expansion of original images.\")\ntstart = timeit.default_timer()\nffb_coeffs = ffb_basis.evaluate_t(org_images)\ntstop = timeit.default_timer()\ndtime = tstop - tstart\nlogger.info(f\"Finish fast FB expansion of original images in {dtime:.4f} seconds.\")\n\n# Reconstruct images from the expansion coefficients based on fast FB basis\nffb_images = ffb_basis.evaluate(ffb_coeffs)\nlogger.info(\"Finish reconstruction of images from fast FB expansion coefficients.\")\n\n# Calculate the mean value of maximum differences between the fast FB estimated images to the original images\ndiff = (ffb_images - org_images).asnumpy()\nffb_meanmax = np.mean(np.max(abs(diff), axis=(1, 2)))\nlogger.info(\n    f\"Mean value of maximum differences between FFB estimated images and original images: {ffb_meanmax}\"\n)\n\n# Calculate the normalized RMSE of the estimated images\nffb_nrmse_ims = anorm(diff) / anorm(org_images)\nlogger.info(f\"FFB Estimated images normalized RMSE: {ffb_nrmse_ims}\")\n\n# plot the first images using the fast FB method\nplt.subplot(1, 3, 1)\nplt.imshow(np.real(org_images[0]), cmap=\"gray\")\nplt.title(\"Original\")\nplt.subplot(1, 3, 2)\nplt.imshow(np.real(ffb_images[0]), cmap=\"gray\")\nplt.title(\"FFB Image\")\nplt.subplot(1, 3, 3)\nplt.imshow(np.real(org_images[0] - ffb_images[0]), cmap=\"gray\")\nplt.title(\"Differences\")\nplt.tight_layout()"
      ]
    },
    {
      "cell_type": "markdown",
      "metadata": {},
      "source": [
        "## Expand Images with Prolate Spheroidal Wave Function\n\n"
      ]
    },
    {
      "cell_type": "code",
      "execution_count": null,
      "metadata": {
        "collapsed": false
      },
      "outputs": [],
      "source": [
        "# Specify the direct PSWF basis method for expanding the 2D images\n# Note, we'll set the Basis dtype to be the same as the `org_images` data,\n#  as good practice.\npswf_basis = PSWFBasis2D((img_size, img_size), dtype=org_images.dtype)\n\n# Get the expansion coefficients based on direct PSWF basis\nlogger.info(\"Start direct PSWF expansion of original images.\")\ntstart = timeit.default_timer()\npswf_coeffs = pswf_basis.evaluate_t(org_images)\ntstop = timeit.default_timer()\ndtime = tstop - tstart\nlogger.info(f\"Finish direct PSWF expansion of original images in {dtime:.4f} seconds.\")\n\n# Reconstruct images from the expansion coefficients based on direct PSWF basis\npswf_images = pswf_basis.evaluate(pswf_coeffs)\nlogger.info(\"Finish reconstruction of images from direct PSWF expansion coefficients.\")\n\n# Calculate the mean value of maximum differences between direct PSWF estimated images and original images\ndiff = (pswf_images - org_images).asnumpy()\npswf_meanmax = np.mean(np.max(abs(diff), axis=(1, 2)))\nlogger.info(\n    f\"Mean value of maximum differences between PSWF estimated images and original images: {pswf_meanmax}\"\n)\n\n# Calculate the normalized RMSE of the estimated images\npswf_nrmse_ims = anorm(diff) / anorm(org_images)\nlogger.info(f\"PSWF Estimated images normalized RMSE: {pswf_nrmse_ims}\")\n\n# plot the first images using the direct PSWF method\nplt.subplot(1, 3, 1)\nplt.imshow(np.real(org_images[0]), cmap=\"gray\")\nplt.title(\"Original\")\nplt.subplot(1, 3, 2)\nplt.imshow(np.real(pswf_images[0]), cmap=\"gray\")\nplt.title(\"PSWF Image\")\nplt.subplot(1, 3, 3)\nplt.imshow(np.real(org_images[0] - pswf_images[0]), cmap=\"gray\")\nplt.title(\"Differences\")\nplt.tight_layout()"
      ]
    },
    {
      "cell_type": "markdown",
      "metadata": {},
      "source": [
        "## Expand Images with Fast PSFW\n\n"
      ]
    },
    {
      "cell_type": "code",
      "execution_count": null,
      "metadata": {
        "collapsed": false
      },
      "outputs": [],
      "source": [
        "# Specify the fast FPSWF basis method for expanding the 2D images\n# Note, we'll set the Basis dtype to be the same as the `org_images` data,\n#  as good practice.\nfpswf_basis = FPSWFBasis2D((img_size, img_size), dtype=org_images.dtype)\n\n# Get the expansion coefficients based on fast PSWF basis\nlogger.info(\"Start fast PSWF expansion of original images.\")\ntstart = timeit.default_timer()\nfpswf_coeffs = fpswf_basis.evaluate_t(org_images)\ntstop = timeit.default_timer()\ndtime = tstop - tstart\nlogger.info(f\"Finish fast PSWF expansion of original images in {dtime:.4f} seconds.\")\n\n# Reconstruct images from the expansion coefficients based on direct PSWF basis\nfpswf_images = fpswf_basis.evaluate(fpswf_coeffs)\nlogger.info(\"Finish reconstruction of images from fast PSWF expansion coefficients.\")\n\n# Calculate mean value of maximum differences between the fast PSWF estimated images and the original images\ndiff = (fpswf_images - org_images).asnumpy()\nfpswf_meanmax = np.mean(np.max(abs(diff), axis=(1, 2)))\nlogger.info(\n    f\"Mean value of maximum differences between FPSWF estimated images and original images: {fpswf_meanmax}\"\n)\n\n# Calculate the normalized RMSE of the estimated images\nfpswf_nrmse_ims = anorm(diff) / anorm(org_images)\nlogger.info(f\"FPSWF Estimated images normalized RMSE: {fpswf_nrmse_ims}\")\n\n# plot the first images using the fast PSWF method\nplt.subplot(1, 3, 1)\nplt.imshow(np.real(org_images[0]), cmap=\"gray\")\nplt.title(\"Original\")\nplt.subplot(1, 3, 2)\nplt.imshow(np.real(fpswf_images[0]), cmap=\"gray\")\nplt.title(\"FPSWF Image\")\nplt.subplot(1, 3, 3)\nplt.imshow(np.real(org_images[0] - fpswf_images[0]), cmap=\"gray\")\nplt.title(\"Differences\")\nplt.tight_layout()\n\n# Basic Check\nassert fb_nrmse_ims < 0.025\nassert ffb_nrmse_ims < 0.025\nassert pswf_nrmse_ims < 0.025\nassert fpswf_nrmse_ims < 0.025"
      ]
    },
    {
      "cell_type": "markdown",
      "metadata": {},
      "source": [
        "## Side-by-side Comparison\n\nHere we present the images side-by-side, column-wise, for comparison between the methods.\nAll plotting commands are copied from the above sections and concatenated to render the comparison plot.\n\n"
      ]
    },
    {
      "cell_type": "code",
      "execution_count": null,
      "metadata": {
        "collapsed": false
      },
      "outputs": [],
      "source": [
        "# plot the first images using the normal FB method\nplt.subplot(3, 4, 1)\nplt.imshow(np.real(org_images[0]), cmap=\"gray\")\nplt.title(\"Original\")\nplt.subplot(3, 4, 5)\nplt.imshow(np.real(fb_images[0]), cmap=\"gray\")\nplt.title(\"FB Image\")\nplt.subplot(3, 4, 9)\nplt.imshow(np.real(org_images[0] - fb_images[0]), cmap=\"gray\")\nplt.title(\"Differences\")\n\n# plot the first images using the fast FB method\nplt.subplot(3, 4, 2)\nplt.imshow(np.real(org_images[0]), cmap=\"gray\")\nplt.title(\"Original\")\nplt.subplot(3, 4, 6)\nplt.imshow(np.real(ffb_images[0]), cmap=\"gray\")\nplt.title(\"FFB Image\")\nplt.subplot(3, 4, 10)\nplt.imshow(np.real(org_images[0] - ffb_images[0]), cmap=\"gray\")\nplt.title(\"Differences\")\n\n# plot the first images using the direct PSWF method\nplt.subplot(3, 4, 3)\nplt.imshow(np.real(org_images[0]), cmap=\"gray\")\nplt.title(\"Original\")\nplt.subplot(3, 4, 7)\nplt.imshow(np.real(pswf_images[0]), cmap=\"gray\")\nplt.title(\"PSWF Image\")\nplt.subplot(3, 4, 11)\nplt.imshow(np.real(org_images[0] - pswf_images[0]), cmap=\"gray\")\nplt.title(\"Differences\")\n\n# plot the first images using the fast PSWF method\nplt.subplot(3, 4, 4)\nplt.imshow(np.real(org_images[0]), cmap=\"gray\")\nplt.title(\"Original\")\nplt.subplot(3, 4, 8)\nplt.imshow(np.real(fpswf_images[0]), cmap=\"gray\")\nplt.title(\"FPSWF Image\")\nplt.subplot(3, 4, 12)\nplt.imshow(np.real(org_images[0] - fpswf_images[0]), cmap=\"gray\")\nplt.title(\"Differences\")\nplt.tight_layout()\n\nplt.show()"
      ]
    }
  ],
  "metadata": {
    "kernelspec": {
      "display_name": "Python 3",
      "language": "python",
      "name": "python3"
    },
    "language_info": {
      "codemirror_mode": {
        "name": "ipython",
        "version": 3
      },
      "file_extension": ".py",
      "mimetype": "text/x-python",
      "name": "python",
      "nbconvert_exporter": "python",
      "pygments_lexer": "ipython3",
      "version": "3.7.15"
    }
  },
  "nbformat": 4,
  "nbformat_minor": 0
}