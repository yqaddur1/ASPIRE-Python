{
  "cells": [
    {
      "cell_type": "code",
      "execution_count": null,
      "metadata": {
        "collapsed": false
      },
      "outputs": [],
      "source": [
        "%matplotlib inline"
      ]
    },
    {
      "cell_type": "markdown",
      "metadata": {},
      "source": [
        "\n# Image Preprocessing\n\nThis script illustrates the preprocess steps implemented prior to starting the pipeline of\nreconstructing a 3D map using simulated 2D images.\n"
      ]
    },
    {
      "cell_type": "code",
      "execution_count": null,
      "metadata": {
        "collapsed": false
      },
      "outputs": [],
      "source": [
        "import logging\nimport os\n\nimport matplotlib.pyplot as plt\nimport numpy as np\n\nfrom aspire.noise import WhiteNoiseAdder, WhiteNoiseEstimator\nfrom aspire.operators import RadialCTFFilter\nfrom aspire.source.simulation import Simulation\nfrom aspire.volume import Volume\n\nlogger = logging.getLogger(__name__)\n\nDATA_DIR = \"data\""
      ]
    },
    {
      "cell_type": "markdown",
      "metadata": {},
      "source": [
        "## Specify Parameters\n\n"
      ]
    },
    {
      "cell_type": "code",
      "execution_count": null,
      "metadata": {
        "collapsed": false
      },
      "outputs": [],
      "source": [
        "# Set the downsample size of images\nimg_size = 33\n\n# Set the total number of images generated from the 3D map\nnum_imgs = 512\n\n# Set the noise variance and build the noise filter\nnoise_variance = 4e-1\nnoise_adder = WhiteNoiseAdder(var=noise_variance)\n\n# Specify the CTF parameters not used for this example\n# but necessary for initializing the simulation object\npixel_size = 5 * 65 / img_size  # Pixel size of the images (in angstroms)\nvoltage = 200  # Voltage (in KV)\ndefocus_min = 1.5e4  # Minimum defocus value (in angstroms)\ndefocus_max = 2.5e4  # Maximum defocus value (in angstroms)\ndefocus_ct = 7  # Number of defocus groups\nCs = 2.0  # Spherical aberration\nalpha = 0.1  # Amplitude contrast"
      ]
    },
    {
      "cell_type": "markdown",
      "metadata": {},
      "source": [
        "## Build Simulation Object and Apply Noise\n\n"
      ]
    },
    {
      "cell_type": "code",
      "execution_count": null,
      "metadata": {
        "collapsed": false
      },
      "outputs": [],
      "source": [
        "logger.info(\"Initialize simulation object and CTF filters.\")\n# Create CTF filters\nctf_filters = [\n    RadialCTFFilter(pixel_size, voltage, defocus=d, Cs=2.0, alpha=0.1)\n    for d in np.linspace(defocus_min, defocus_max, defocus_ct)\n]\n\n# Load the map file of a 70S ribosome and downsample the 3D map to desired resolution.\nlogger.info(\"Load 3D map from mrc file\")\nvols = Volume.load(os.path.join(DATA_DIR, \"clean70SRibosome_vol_65p.mrc\"))\n\n# Downsample the volume to a desired resolution and increase density\n# by 1.0e5 time for a better graph view\nlogger.info(f\"Downsample map to a resolution of {img_size} x {img_size} x {img_size}\")\nvols = vols.downsample(img_size) * 1.0e5\n\n# Create a simulation object with specified filters and the downsampled 3D map\nlogger.info(\"Use downsampled map to create simulation object.\")\nsource = Simulation(\n    L=img_size,\n    n=num_imgs,\n    vols=vols,\n    unique_filters=ctf_filters,\n    noise_adder=noise_adder,\n)"
      ]
    },
    {
      "cell_type": "markdown",
      "metadata": {},
      "source": [
        "## Apply Preprocessing Techniques\n\n"
      ]
    },
    {
      "cell_type": "code",
      "execution_count": null,
      "metadata": {
        "collapsed": false
      },
      "outputs": [],
      "source": [
        "logger.info(\"Obtain original images.\")\nimgs_od = source.images[0].asnumpy()\n\nlogger.info(\"Perform phase flip to input images.\")\nsource.phase_flip()\nimgs_pf = source.images[0].asnumpy()\n\nmax_resolution = 15\nlogger.info(f\"Downsample resolution to {max_resolution} X {max_resolution}\")\nif max_resolution < source.L:\n    source.downsample(max_resolution)\nimgs_ds = source.images[0].asnumpy()\n\nlogger.info(\"Normalize images to background noise.\")\nsource.normalize_background()\nimgs_nb = source.images[0].asnumpy()\n\nlogger.info(\"Whiten noise of images\")\nnoise_estimator = WhiteNoiseEstimator(source)\nsource.whiten(noise_estimator.filter)\nimgs_wt = source.images[0].asnumpy()\n\nlogger.info(\"Invert the global density contrast if need\")\nsource.invert_contrast()\nimgs_rc = source.images[0].asnumpy()"
      ]
    },
    {
      "cell_type": "markdown",
      "metadata": {},
      "source": [
        "## Plot First Image from Each Preprocess Step\n\n"
      ]
    },
    {
      "cell_type": "code",
      "execution_count": null,
      "metadata": {
        "collapsed": false
      },
      "outputs": [],
      "source": [
        "# plot the first images\nlogger.info(\"Plot first image from each preprocess steps\")\nidm = 0\nplt.subplot(2, 3, 1)\nplt.imshow(imgs_od[idm], cmap=\"gray\")\nplt.colorbar(orientation=\"horizontal\")\nplt.title(\"original image\")\n\nplt.subplot(2, 3, 2)\nplt.imshow(imgs_pf[idm], cmap=\"gray\")\nplt.colorbar(orientation=\"horizontal\")\nplt.title(\"phase flip\")\n\nplt.subplot(2, 3, 3)\nplt.imshow(imgs_ds[idm], cmap=\"gray\")\nplt.colorbar(orientation=\"horizontal\")\nplt.title(\"downsample\")\n\nplt.subplot(2, 3, 4)\nplt.imshow(imgs_nb[idm], cmap=\"gray\")\nplt.colorbar(orientation=\"horizontal\")\nplt.title(\"normalize background\")\n\nplt.subplot(2, 3, 5)\nplt.imshow(imgs_wt[idm], cmap=\"gray\")\nplt.colorbar(orientation=\"horizontal\")\nplt.title(\"noise whitening\")\n\nplt.subplot(2, 3, 6)\nplt.imshow(imgs_rc[idm], cmap=\"gray\")\nplt.colorbar(orientation=\"horizontal\")\nplt.title(\"invert contrast\")\nplt.tight_layout()"
      ]
    }
  ],
  "metadata": {
    "kernelspec": {
      "display_name": "Python 3",
      "language": "python",
      "name": "python3"
    },
    "language_info": {
      "codemirror_mode": {
        "name": "ipython",
        "version": 3
      },
      "file_extension": ".py",
      "mimetype": "text/x-python",
      "name": "python",
      "nbconvert_exporter": "python",
      "pygments_lexer": "ipython3",
      "version": "3.7.15"
    }
  },
  "nbformat": 4,
  "nbformat_minor": 0
}