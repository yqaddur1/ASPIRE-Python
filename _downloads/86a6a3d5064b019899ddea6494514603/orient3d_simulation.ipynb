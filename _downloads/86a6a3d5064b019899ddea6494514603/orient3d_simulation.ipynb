{
  "cells": [
    {
      "cell_type": "code",
      "execution_count": null,
      "metadata": {
        "collapsed": false
      },
      "outputs": [],
      "source": [
        "%matplotlib inline"
      ]
    },
    {
      "cell_type": "markdown",
      "metadata": {},
      "source": [
        "\n# 3D Image Orientation\n\nThis script illustrates the estimation of orientation angles using a synchronization\nmatrix and the voting method, based on simulated data projected from a 3D cryo-EM map.\n"
      ]
    },
    {
      "cell_type": "code",
      "execution_count": null,
      "metadata": {
        "collapsed": false
      },
      "outputs": [],
      "source": [
        "import logging\nimport os\n\nimport numpy as np\n\nfrom aspire.abinitio import CLSyncVoting\nfrom aspire.operators import RadialCTFFilter\nfrom aspire.source.simulation import Simulation\nfrom aspire.utils import get_aligned_rotations, get_rots_mse, register_rotations\nfrom aspire.volume import Volume\n\nlogger = logging.getLogger(__name__)\n\nDATA_DIR = \"data\"\n\nlogger.info(\n    \"This script illustrates orientation estimation using \"\n    \"synchronization matrix and voting method\"\n)"
      ]
    },
    {
      "cell_type": "markdown",
      "metadata": {},
      "source": [
        "## Initialize Simulation Object and CTF Filters\n\n"
      ]
    },
    {
      "cell_type": "code",
      "execution_count": null,
      "metadata": {
        "collapsed": false
      },
      "outputs": [],
      "source": [
        "# Define a precision for this experiment\ndtype = np.float32\n\n# Set the sizes of images\nimg_size = 33\n\n# Set the total number of images generated from the 3D map\nnum_imgs = 128\n\n# Specify the CTF parameters not used for this example\n# but necessary for initializing the simulation object\npixel_size = 5  # Pixel size of the images (in angstroms)\nvoltage = 200  # Voltage (in KV)\ndefocus_min = 1.5e4  # Minimum defocus value (in angstroms)\ndefocus_max = 2.5e4  # Maximum defocus value (in angstroms)\ndefocus_ct = 7  # Number of defocus groups.\nCs = 2.0  # Spherical aberration\nalpha = 0.1  # Amplitude contrast\n\nlogger.info(\"Initialize simulation object and CTF filters.\")\n# Create CTF filters\nfilters = [\n    RadialCTFFilter(pixel_size, voltage, defocus=d, Cs=2.0, alpha=0.1)\n    for d in np.linspace(defocus_min, defocus_max, defocus_ct)\n]"
      ]
    },
    {
      "cell_type": "markdown",
      "metadata": {},
      "source": [
        "## Downsampling\n\n"
      ]
    },
    {
      "cell_type": "code",
      "execution_count": null,
      "metadata": {
        "collapsed": false
      },
      "outputs": [],
      "source": [
        "# Load the map file of a 70S Ribosome and downsample the 3D map to desired resolution.\n# The downsampling can be done by the internal function of Volume object.\nlogger.info(\n    f\"Load 3D map and downsample 3D map to desired grids \"\n    f\"of {img_size} x {img_size} x {img_size}.\"\n)\nvols = Volume.load(os.path.join(DATA_DIR, \"clean70SRibosome_vol_65p.mrc\"), dtype=dtype)\nvols = vols.downsample(img_size)"
      ]
    },
    {
      "cell_type": "markdown",
      "metadata": {},
      "source": [
        "## Create Simulation Object and Obtain True Rotation Angles\n\n"
      ]
    },
    {
      "cell_type": "code",
      "execution_count": null,
      "metadata": {
        "collapsed": false
      },
      "outputs": [],
      "source": [
        "# Create a simulation object with specified filters and the downsampled 3D map\nlogger.info(\"Use downsampled map to creat simulation object.\")\nsim = Simulation(L=img_size, n=num_imgs, vols=vols, unique_filters=filters, dtype=dtype)\n\nlogger.info(\"Get true rotation angles generated randomly by the simulation object.\")\nrots_true = sim.rotations"
      ]
    },
    {
      "cell_type": "markdown",
      "metadata": {},
      "source": [
        "## Estimate Orientation and Rotation Angles\n\n"
      ]
    },
    {
      "cell_type": "code",
      "execution_count": null,
      "metadata": {
        "collapsed": false
      },
      "outputs": [],
      "source": [
        "# Initialize an orientation estimation object and perform view angle estimation\nlogger.info(\"Estimate rotation angles using synchronization matrix and voting method.\")\norient_est = CLSyncVoting(sim, n_theta=36)\norient_est.estimate_rotations()\nrots_est = orient_est.rotations"
      ]
    },
    {
      "cell_type": "markdown",
      "metadata": {},
      "source": [
        "## Mean Squared Error\n\n"
      ]
    },
    {
      "cell_type": "code",
      "execution_count": null,
      "metadata": {
        "collapsed": false
      },
      "outputs": [],
      "source": [
        "# Get register rotations after performing global alignment\nQ_mat, flag = register_rotations(rots_est, rots_true)\nregrot = get_aligned_rotations(rots_est, Q_mat, flag)\nmse_reg = get_rots_mse(regrot, rots_true)\nlogger.info(\n    f\"MSE deviation of the estimated rotations using register_rotations : {mse_reg}\"\n)\n\n# Basic Check\nassert mse_reg < 0.06"
      ]
    }
  ],
  "metadata": {
    "kernelspec": {
      "display_name": "Python 3",
      "language": "python",
      "name": "python3"
    },
    "language_info": {
      "codemirror_mode": {
        "name": "ipython",
        "version": 3
      },
      "file_extension": ".py",
      "mimetype": "text/x-python",
      "name": "python",
      "nbconvert_exporter": "python",
      "pygments_lexer": "ipython3",
      "version": "3.7.15"
    }
  },
  "nbformat": 4,
  "nbformat_minor": 0
}