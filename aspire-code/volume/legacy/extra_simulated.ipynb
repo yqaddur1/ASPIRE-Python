{
 "cells": [
  {
   "attachments": {},
   "cell_type": "markdown",
   "metadata": {},
   "source": []
  },
  {
   "cell_type": "code",
   "execution_count": null,
   "metadata": {},
   "outputs": [
    {
     "name": "stdout",
     "output_type": "stream",
     "text": [
      "2023-03-06 17:23:15,874 INFO [aspire.source.image] Creating Simulation with 100 images.\n",
      "2023-03-06 17:23:15,902 INFO [aspire.basis.ffb_2d] Expanding 2D image in a frequency-domain Fourier–Bessel basis using the fast method.\n",
      "2023-03-06 17:23:16,136 INFO [aspire.basis.fspca] Estimating the noise of images.\n",
      "2023-03-06 17:23:16,137 INFO [aspire.noise.noise] Determining Noise variance in batches of 512\n"
     ]
    },
    {
     "name": "stderr",
     "output_type": "stream",
     "text": [
      "100%|██████████| 1/1 [00:00<00:00,  5.74it/s]"
     ]
    },
    {
     "name": "stdout",
     "output_type": "stream",
     "text": [
      "2023-03-06 17:23:16,317 INFO [aspire.noise.noise] Noise variance = 0.0005174962292393761\n",
      "2023-03-06 17:23:16,318 INFO [aspire.basis.fspca] Setting noise_var=0.0005174962570890784\n",
      "2023-03-06 17:23:16,319 INFO [aspire.covariance.covar2d] CTF filters are not included in Cov2D denoising\n"
     ]
    },
    {
     "name": "stderr",
     "output_type": "stream",
     "text": [
      "\n"
     ]
    }
   ],
   "source": [
    "import logging\n",
    "\n",
    "from aspire.basis import FSPCABasis\n",
    "from aspire.source import Simulation\n",
    "\n",
    "logger = logging.getLogger(__name__)\n",
    "\n",
    "src = Simulation(  # our Volume\n",
    "    L=60,  # resolution, should match Volume\n",
    "    n=100,  # number of projection images\n",
    "    seed=12345,  # RNG seed for reproducibility\n",
    ")\n",
    "\n",
    "basic = FSPCABasis(src = src, components=400, batch_size=512)\n",
    "\n"
   ]
  },
  {
   "cell_type": "code",
   "execution_count": null,
   "metadata": {},
   "outputs": [
    {
     "name": "stdout",
     "output_type": "stream",
     "text": [
      "2023-03-06 17:24:53,864 INFO [aspire.volume.volume] map-data/emd_14930.map.gz with dtype float32 loaded as <class 'numpy.float64'>\n",
      "2023-03-06 17:24:53,935 INFO [__main__] Original volume map data shape: (1, 280, 280, 280) dtype:float64\n",
      "2023-03-06 17:24:53,936 INFO [__main__] Downsampling to (30, 30, 30)\n",
      "2023-03-06 17:25:02,193 INFO [aspire.source.image] Creating Simulation with 100 images.\n",
      "2023-03-06 17:25:02,200 INFO [aspire.source.simulation] Appending WhiteNoiseAdder with variance=1 to generation pipeline\n",
      "2023-03-06 17:25:02,201 INFO [aspire.basis.ffb_2d] Expanding 2D image in a frequency-domain Fourier–Bessel basis using the fast method.\n",
      "2023-03-06 17:25:02,236 INFO [aspire.basis.fspca] Estimating the noise of images.\n",
      "2023-03-06 17:25:02,238 INFO [aspire.noise.noise] Determining Noise variance in batches of 512\n"
     ]
    },
    {
     "name": "stderr",
     "output_type": "stream",
     "text": [
      "100%|██████████| 1/1 [00:00<00:00,  1.79it/s]"
     ]
    },
    {
     "name": "stdout",
     "output_type": "stream",
     "text": [
      "2023-03-06 17:25:02,802 INFO [aspire.noise.noise] Noise variance = 1.0026934761209643\n",
      "2023-03-06 17:25:02,803 INFO [aspire.basis.fspca] Setting noise_var=1.0026934761209643\n",
      "2023-03-06 17:25:02,803 INFO [aspire.covariance.covar2d] CTF filters are not included in Cov2D denoising\n"
     ]
    },
    {
     "name": "stderr",
     "output_type": "stream",
     "text": [
      "\n"
     ]
    },
    {
     "data": {
      "text/plain": [
       "array([[-4.83413346e-01, -1.34019402e+00,  1.49579249e+00,\n",
       "        -7.93088822e-01,  7.61581348e-01, -8.60987386e-01,\n",
       "        -1.19430204e+00, -5.12239352e-01,  1.34473152e+00,\n",
       "        -9.61869655e-01,  4.19232860e-01,  8.36051776e-01,\n",
       "        -2.13535607e+00, -1.14119461e+00,  5.36732888e-02,\n",
       "        -1.89150344e+00,  1.19374623e-01, -1.40260885e+00,\n",
       "        -7.16987492e-01, -7.50700046e-01, -1.70515874e+00,\n",
       "        -2.13626270e-01, -3.18757781e-01, -1.16767795e-01,\n",
       "         8.40246988e-01, -4.98502475e-01, -1.09451389e+00,\n",
       "        -7.45999026e-01, -3.29427575e-02, -4.96150048e-01,\n",
       "        -1.43441080e-01,  3.38562135e-01, -5.43363519e-01,\n",
       "        -9.58858278e-01,  1.27236968e+00, -9.82284602e-01,\n",
       "         7.23287250e-02,  2.52459328e-01, -4.14260142e-02,\n",
       "        -4.32855448e-01, -2.64828791e-01, -1.31524266e+00,\n",
       "         1.44819646e+00, -6.46458792e-01,  3.76624065e-01,\n",
       "         1.42281948e-01,  6.67655519e-01, -4.22813923e-01,\n",
       "         6.08471507e-01,  3.48605361e-01, -2.82135837e-01,\n",
       "         1.11967469e-01, -5.74541816e-01,  1.70977206e+00,\n",
       "        -5.11229066e-01, -1.26721831e-01, -2.86839163e-01,\n",
       "         1.53140012e+00, -1.00130533e+00,  1.95796314e+00,\n",
       "        -1.89293227e+00,  5.00160061e-01,  9.32489246e-01,\n",
       "        -9.85727074e-01,  1.12590976e+00,  5.64216824e-01,\n",
       "         1.86963745e+00,  8.19086603e-01,  5.55265176e-01,\n",
       "        -2.27761782e-01, -3.02904910e-01, -5.35111199e-01,\n",
       "        -2.79162624e-01, -1.29228013e-01,  1.88154786e-01,\n",
       "         9.25592720e-01, -6.88465905e-01, -4.80434799e-01,\n",
       "        -1.48328387e-01,  1.01083634e+00, -3.79494343e-01,\n",
       "         3.74213189e-01,  2.14341104e+00,  1.63915372e-01,\n",
       "         1.24484421e+00, -3.08378833e-01, -8.54387110e-01,\n",
       "         9.23242948e-01, -8.64343277e-01, -1.98295679e+00,\n",
       "         1.45795598e-01, -2.12126001e-01, -7.58843157e-01,\n",
       "         1.12913161e+00,  1.44199217e+00,  3.36656065e-01,\n",
       "        -3.92460060e-01,  1.71387418e-01,  2.22630324e-01,\n",
       "         1.61650414e+00, -3.76117297e-01,  1.67871834e-01,\n",
       "        -3.28065971e-01,  9.18292174e-01,  4.19084067e-01,\n",
       "         3.81649260e-01,  8.21437921e-01, -1.51704917e-01,\n",
       "        -4.94349054e-01,  6.35271432e-01,  1.00227494e+00,\n",
       "         7.40626509e-03,  5.16395882e-01,  4.18473590e-01,\n",
       "        -4.50970110e-01,  1.41880374e-01, -1.67702901e+00,\n",
       "         1.41969378e+00,  9.37567821e-01, -1.69205932e+00,\n",
       "         1.18600092e+00, -1.11765329e+00,  2.86195525e-01,\n",
       "         5.87615399e-02, -3.50164084e-01, -1.80829001e+00,\n",
       "         5.14083597e-01,  1.21449895e+00,  1.52071642e-02,\n",
       "         6.67303350e-01, -5.76024390e-01, -7.09521427e-01,\n",
       "        -1.51142551e+00,  5.17552788e-01,  1.66147600e+00,\n",
       "        -3.88998522e-01, -7.97080516e-01, -9.37424690e-01,\n",
       "        -1.35443869e+00, -7.79881146e-01, -1.72631912e-01,\n",
       "        -2.24942063e-01, -7.42476688e-01,  5.06341802e-01,\n",
       "         1.31057560e+00, -7.47701322e-01, -4.89672283e-01,\n",
       "         8.02268414e-01, -1.18490306e+00,  2.28050785e+00,\n",
       "        -4.60236570e-01,  1.59461832e+00, -4.92202834e-01,\n",
       "        -1.26909428e+00, -7.14188921e-01, -1.57329155e+00,\n",
       "        -4.81019174e-01, -1.17349609e+00, -5.36063357e-01,\n",
       "         2.31465084e+00, -1.33050740e+00, -3.86888939e-01,\n",
       "        -1.17133621e+00,  7.23029752e-01, -1.07877106e-01,\n",
       "        -1.58621358e+00,  1.73897218e+00, -1.08576369e-02,\n",
       "        -1.71795756e-01, -1.16703070e+00, -1.55656372e+00,\n",
       "        -8.46269473e-01, -7.71916269e-01, -6.21996547e-01,\n",
       "         4.63087590e-01, -3.59283991e-01, -2.63400587e-01,\n",
       "        -1.89513447e-01, -1.37801484e+00,  1.08505309e+00,\n",
       "        -8.05701900e-01, -1.78728517e-01,  3.61890875e-01,\n",
       "         1.46042516e+00, -1.03216317e+00, -6.74183510e-01,\n",
       "        -1.24359281e-01,  3.08797173e-01,  2.11263709e+00,\n",
       "        -1.58586076e+00,  1.35082222e+00, -1.07297015e+00,\n",
       "         7.03911907e-01,  1.48373631e-01,  1.24339255e+00,\n",
       "        -1.24278428e+00, -1.13614151e+00, -1.39978759e+00,\n",
       "        -7.78580962e-01,  6.94798532e-01, -3.24241338e-01,\n",
       "         1.15958528e+00, -6.22896652e-01, -5.10860945e-03,\n",
       "         3.74304739e-01, -8.85190139e-01, -6.54452373e-01,\n",
       "        -3.24707616e-01,  4.46991278e-01, -1.45852289e-01,\n",
       "         1.58661936e+00, -8.52912850e-01, -2.92950523e-01,\n",
       "        -2.49224062e-01,  3.35344257e-01, -8.78403342e-01,\n",
       "        -5.59832941e-01,  3.50235859e-04,  3.87196456e-01,\n",
       "         9.95200294e-01, -1.06392600e-01, -7.18817721e-01,\n",
       "        -6.94715931e-01,  7.70151622e-01,  1.69481646e+00,\n",
       "         4.66976341e-01,  9.44531081e-02, -9.83465435e-01,\n",
       "         1.24660664e+00,  9.90728317e-02,  9.27925814e-01,\n",
       "        -2.60164234e-01,  1.30618716e-01, -1.04622908e+00,\n",
       "        -2.83622092e-01,  1.84782373e-01, -7.72126003e-01,\n",
       "        -1.90437316e-01,  4.14668288e-01, -1.18621047e+00,\n",
       "         1.25284514e+00, -3.27505734e-01,  1.20565834e+00,\n",
       "         1.32962810e+00, -5.43594362e-01, -2.14485182e-01,\n",
       "        -1.22217652e+00,  1.26901891e+00, -3.84401466e-01,\n",
       "         1.21428494e+00, -2.01082663e-01,  9.65180406e-01,\n",
       "        -1.82768159e+00,  2.62463700e-01, -9.29006698e-01,\n",
       "         8.69438543e-01,  4.96755258e-01, -9.23140651e-01,\n",
       "         7.01291660e-01,  2.19175120e-01, -1.42765084e+00,\n",
       "         4.48662887e-01, -1.50384036e+00, -4.32591895e-01,\n",
       "        -2.32978591e-01, -1.08375196e+00, -9.25371837e-01,\n",
       "         4.73842840e-01, -1.10728281e+00,  8.90999569e-01,\n",
       "         1.05613316e+00,  1.28376560e-01, -1.28714928e+00,\n",
       "        -1.48872966e+00, -1.13207096e+00,  5.09908860e-01,\n",
       "        -1.70285852e-01,  2.42132731e-01, -6.88794077e-02,\n",
       "        -4.83123416e-01, -6.97259536e-01, -1.23213535e+00,\n",
       "        -1.86612517e-01,  1.14941205e+00,  3.83040114e-01,\n",
       "         4.30836062e-01,  1.52053410e+00,  1.41039339e+00,\n",
       "        -1.74407444e-01,  3.07788905e-01,  6.30861646e-01,\n",
       "        -5.19308971e-01, -6.52220632e-01, -1.77867623e-01,\n",
       "         3.07588626e-02, -1.36052148e-01, -6.14348382e-01,\n",
       "         4.58575215e-01,  5.38879470e-02, -8.59349998e-01,\n",
       "         1.70843105e-01, -2.52368811e-01, -5.34492927e-01,\n",
       "         8.10862219e-02,  9.84464001e-02, -6.42858189e-02,\n",
       "         4.61499883e-01, -1.51236871e+00,  1.35998918e+00,\n",
       "         1.03578971e+00, -8.36443417e-01,  7.28774823e-01,\n",
       "        -6.43807190e-01,  9.10888401e-01, -7.66971847e-01,\n",
       "        -5.23575782e-01, -7.75793932e-01,  1.60158254e+00,\n",
       "        -8.51981649e-02, -4.73932840e-01, -2.20379563e-02,\n",
       "         3.39588386e-01,  3.23985788e-01, -1.45217438e+00,\n",
       "        -1.55644984e+00, -1.55102219e-01, -1.95875159e+00,\n",
       "         6.91235322e-01,  1.22248268e+00, -1.70161625e+00,\n",
       "         1.69160334e+00,  1.25970345e+00,  8.32290798e-01,\n",
       "         5.69064436e-01, -1.07360785e+00, -1.36625593e+00,\n",
       "        -1.38255599e+00, -6.00951402e-01,  7.23824994e-01,\n",
       "         7.76054559e-01, -1.24729218e+00, -1.37666016e+00,\n",
       "         1.20356413e+00,  4.50034162e-01, -3.93493866e-01,\n",
       "        -9.28145076e-01,  1.17475645e+00, -7.63589327e-01,\n",
       "         4.02092776e-01, -2.24820674e-01,  7.71004920e-01,\n",
       "        -1.34460260e+00,  1.03863202e+00, -1.73035997e+00,\n",
       "        -9.26057534e-01, -4.21347789e-01, -1.40332175e+00,\n",
       "        -1.87017788e-01, -1.40966650e+00,  5.15095692e-01,\n",
       "        -1.98728890e+00,  3.51250105e-01,  1.49318046e+00,\n",
       "         1.36929086e+00, -1.08489696e+00, -1.04322170e+00,\n",
       "         1.69831439e-01,  4.21724238e-01, -2.00343694e+00,\n",
       "         1.23987096e-02, -1.10973130e+00,  5.68442528e-01,\n",
       "         1.04831055e+00,  1.23546670e+00,  2.69037944e-01,\n",
       "         1.56207598e+00, -5.24180694e-01, -1.81967000e+00,\n",
       "        -7.33360137e-01,  2.06685987e+00,  3.88024324e-01,\n",
       "         4.42506499e-01,  1.25046029e-01,  6.46255081e-01,\n",
       "        -5.55507017e-01, -2.63210157e-01,  1.72245359e-01,\n",
       "        -1.16249494e+00,  8.44717240e-01,  2.21914318e-01,\n",
       "         2.14600120e-01, -1.13199917e+00,  1.18654932e+00,\n",
       "        -8.29908421e-01,  1.89273292e-01, -1.89958369e+00,\n",
       "        -4.62573130e-02, -3.31980845e-01, -1.50793073e+00,\n",
       "         7.89917768e-01,  5.72173346e-01, -7.15873528e-01,\n",
       "        -3.96892504e-01, -6.27753862e-01,  3.09821819e-01,\n",
       "        -2.98700145e-01, -2.38766408e-01,  9.18742818e-01,\n",
       "        -4.53579218e-01, -1.06996485e+00, -4.01721523e-01,\n",
       "        -7.97702612e-01,  8.18759060e-02, -1.51119154e-01,\n",
       "        -7.32905470e-01,  1.05053738e+00, -7.50691121e-01,\n",
       "        -2.03280753e-01, -1.96319577e+00,  1.32129789e+00,\n",
       "        -6.53843171e-01,  1.15765947e+00, -6.73315281e-01,\n",
       "         2.84680720e-01,  1.86047015e+00, -2.46864176e-01,\n",
       "        -3.42746237e-01, -4.75307770e-01,  3.76563267e-01,\n",
       "         1.23979725e+00,  6.07440468e-01, -8.64027688e-01,\n",
       "        -1.30489793e+00, -7.89595514e-01, -1.56031867e-01,\n",
       "         1.05642131e+00,  4.36099696e-01, -1.09223843e+00,\n",
       "        -1.06288565e-01,  6.64572266e-01,  2.06481550e-01,\n",
       "        -4.52919972e-01,  2.08789438e-01,  1.34986483e+00,\n",
       "        -1.68521962e+00,  3.55281510e-01, -1.06435984e+00,\n",
       "        -3.29054618e-01,  9.40388294e-01,  1.20085064e+00,\n",
       "        -6.42590374e-02, -1.10442110e+00,  4.61395064e-01,\n",
       "        -3.26849778e-01, -1.03658087e-01,  9.24740176e-01,\n",
       "        -6.04782084e-01,  7.62441388e-01, -4.63853904e-01,\n",
       "        -2.10145124e+00,  5.28291920e-01,  1.34305507e+00,\n",
       "         1.08101342e+00,  9.70852349e-01, -2.61830712e-01,\n",
       "        -1.97424849e-02, -3.52887232e-01,  9.85377180e-01,\n",
       "        -4.74371746e-01,  1.75774482e+00, -1.33738398e+00,\n",
       "         8.55144243e-01, -2.03774715e-01, -2.59213454e-01,\n",
       "        -1.08226130e+00,  1.34328565e+00, -2.61433526e-02,\n",
       "        -1.47563012e+00,  9.15384362e-02,  6.73844539e-02,\n",
       "        -1.48267931e+00, -4.12777894e-01,  9.72294068e-01,\n",
       "        -4.37616824e-01, -1.21216300e+00, -5.37045244e-01,\n",
       "         6.37385540e-01, -1.09905891e+00, -9.43517413e-01,\n",
       "        -3.15617741e-01,  3.33678175e-01,  1.22948436e+00,\n",
       "         1.81665163e-01, -2.19224630e-01,  6.29749703e-01,\n",
       "         1.29139279e+00, -6.16221352e-01, -1.13913441e-01,\n",
       "         2.21736832e-01,  8.20773976e-01,  6.40283236e-02,\n",
       "         1.03204490e+00, -2.42449198e+00, -3.13384451e-01,\n",
       "         1.21643449e+00, -1.20163500e+00, -1.36627334e+00,\n",
       "        -9.60419063e-01,  4.48931900e-01,  4.80146769e-01,\n",
       "         1.32358909e+00, -8.69267482e-01,  1.00225256e+00,\n",
       "         2.47702596e+00,  6.66099067e-01,  1.61754419e-01,\n",
       "         2.15285917e+00,  4.52224765e-01,  1.35716427e+00,\n",
       "        -1.13205535e+00,  4.98804027e-01,  1.68249443e+00,\n",
       "         1.07671380e+00, -8.04656029e-01, -2.99292402e-01,\n",
       "        -3.04933702e-01, -2.03530466e+00, -5.50624577e-01,\n",
       "        -1.14390721e+00]])"
      ]
     },
     "metadata": {},
     "output_type": "display_data"
    }
   ],
   "source": [
    "import logging\n",
    "import os\n",
    "\n",
    "import numpy as np\n",
    "\n",
    "from aspire.noise import WhiteNoiseAdder\n",
    "from aspire.source.simulation import Simulation\n",
    "from aspire.utils import Rotation\n",
    "from aspire.basis import FSPCABasis\n",
    "from aspire.volume import Volume\n",
    "\n",
    "logger = logging.getLogger(__name__)\n",
    "\n",
    "og_v = Volume.load(\"map-data/emd_14930.map.gz\", dtype=np.float64)\n",
    "logger.info(\"Original volume map data\" f\" shape: {og_v.shape} dtype:{og_v.dtype}\")\n",
    "\n",
    "logger.info(f\"Downsampling to {(30,)*3}\")\n",
    "v = og_v.downsample(30)\n",
    "L = v.resolution\n",
    "\n",
    "\n",
    "\n",
    "src2 = Simulation(  # our Volume\n",
    "    L=L,  # resolution, should match Volume\n",
    "    vols = v,\n",
    "    n=100,  # number of projection images\n",
    "    seed=12345,  # RNG seed for reproducibility\n",
    "    noise_adder=WhiteNoiseAdder(var = 1),\n",
    ")\n",
    "\n",
    "basic2 = FSPCABasis(src = src2, components=400, batch_size=512)\n",
    "\n",
    "basic2.cov2d.basis.evaluate_t(src2.images[0])\n"
   ]
  },
  {
   "cell_type": "code",
   "execution_count": null,
   "metadata": {},
   "outputs": [
    {
     "name": "stdout",
     "output_type": "stream",
     "text": [
      "2023-03-06 17:15:19,470 INFO [aspire.basis.ffb_2d] Expanding 2D image in a frequency-domain Fourier–Bessel basis using the fast method.\n",
      "2023-03-06 17:15:19,687 INFO [aspire.basis.fspca] Estimating the noise of images.\n",
      "2023-03-06 17:15:19,688 INFO [aspire.noise.noise] Determining Noise variance in batches of 512\n"
     ]
    },
    {
     "name": "stderr",
     "output_type": "stream",
     "text": [
      "100%|██████████| 1/1 [00:00<00:00,  5.32it/s]"
     ]
    },
    {
     "name": "stdout",
     "output_type": "stream",
     "text": [
      "2023-03-06 17:15:19,880 INFO [aspire.noise.noise] Noise variance = 0.0005174958477837242\n",
      "2023-03-06 17:15:19,881 INFO [aspire.basis.fspca] Setting noise_var=0.000517495849635452\n",
      "2023-03-06 17:15:19,882 INFO [aspire.covariance.covar2d] CTF filters are not included in Cov2D denoising\n"
     ]
    },
    {
     "name": "stderr",
     "output_type": "stream",
     "text": [
      "\n"
     ]
    }
   ],
   "source": [
    "basis = FSPCABasis(src = src, components=400, batch_size=512)"
   ]
  },
  {
   "cell_type": "code",
   "execution_count": null,
   "metadata": {},
   "outputs": [
    {
     "data": {
      "text/plain": [
       "array([[ 4.0970569e+00,  6.1992760e+00,  7.6537838e+00, ...,\n",
       "        -6.6465636e-06,  6.6903399e-06,  7.4622858e-06]], dtype=float32)"
      ]
     },
     "metadata": {},
     "output_type": "display_data"
    }
   ],
   "source": [
    "basic.cov2d.basis.evaluate_t(src.images[0])"
   ]
  },
  {
   "cell_type": "markdown",
   "metadata": {},
   "source": [
    "## Optional: CWF Denoising\n",
    "\n",
    "Optionally generate an alternative source that is denoised with `cov2d`,\n",
    "then configure a customized aligner. This allows the use of CWF denoised\n",
    "images for classification, but stacks the original images for averages\n",
    "used in the remainder of the reconstruction pipeline.\n",
    "\n",
    "In this example, this behavior is controlled by the `do_cov2d` boolean variable.\n",
    "When disabled, the original src and default aligner is used.\n",
    "If you will not be using cov2d,\n",
    "you may remove this code block and associated variables.\n",
    "\n"
   ]
  },
  {
   "cell_type": "code",
   "execution_count": null,
   "metadata": {},
   "outputs": [],
   "source": [
    "classification_src = src\n",
    "custom_averager = None\n",
    "if do_cov2d:\n",
    "    # Use CWF denoising\n",
    "    cwf_denoiser = DenoiserCov2D(src)\n",
    "    # Use denoised src for classification\n",
    "    classification_src = cwf_denoiser.denoise()\n",
    "    # Peek, what do the denoised images look like...\n",
    "    if interactive:\n",
    "        classification_src.images[:10].show()\n",
    "\n",
    "    # Use regular `src` for the alignment and composition (averaging).\n",
    "    composite_basis = FFBBasis2D((src.L,) * 2, dtype=src.dtype)\n",
    "    custom_averager = BFSReddyChatterjiAverager2D(composite_basis, src, dtype=src.dtype)"
   ]
  },
  {
   "cell_type": "markdown",
   "metadata": {},
   "source": [
    "## Class Averaging\n",
    "\n",
    "Now perform classification and averaging for each class.\n",
    "\n"
   ]
  },
  {
   "cell_type": "code",
   "execution_count": null,
   "metadata": {},
   "outputs": [],
   "source": [
    "logger.info(\"Begin Class Averaging\")\n",
    "\n",
    "rir = RIRClass2D(\n",
    "    classification_src,  # Source used for classification\n",
    "    fspca_components=400,\n",
    "    bispectrum_components=300,  # Compressed Features after last PCA stage.\n",
    "    n_nbor=n_nbor,\n",
    "    n_classes=n_classes,\n",
    "    large_pca_implementation=\"legacy\",\n",
    "    nn_implementation=\"sklearn\",\n",
    "    bispectrum_implementation=\"legacy\",\n",
    "    averager=custom_averager,\n",
    ")\n",
    "\n",
    "classes, reflections, distances = rir.classify()\n",
    "avgs = rir.averages(classes, reflections, distances)\n",
    "if interactive:\n",
    "    avgs.images[:10].show()"
   ]
  },
  {
   "cell_type": "markdown",
   "metadata": {},
   "source": [
    "## Common Line Estimation\n",
    "\n",
    "Next create a CL instance for estimating orientation of projections\n",
    "using the Common Line with Synchronization Voting method.\n",
    "\n"
   ]
  },
  {
   "cell_type": "code",
   "execution_count": null,
   "metadata": {},
   "outputs": [],
   "source": [
    "logger.info(\"Begin Orientation Estimation\")\n",
    "\n",
    "# Stash true rotations for later comparison,\n",
    "#   note this line only works with naive class selection...\n",
    "true_rotations = src.rotations[:n_classes]\n",
    "\n",
    "orient_est = CLSyncVoting(avgs, n_theta=36)\n",
    "# Get the estimated rotations\n",
    "orient_est.estimate_rotations()\n",
    "rots_est = orient_est.rotations\n",
    "\n",
    "logger.info(\"Compare with known rotations\")\n",
    "# Compare with known true rotations\n",
    "Q_mat, flag = register_rotations(rots_est, true_rotations)\n",
    "regrot = get_aligned_rotations(rots_est, Q_mat, flag)\n",
    "mse_reg = get_rots_mse(regrot, true_rotations)\n",
    "logger.info(\n",
    "    f\"MSE deviation of the estimated rotations using register_rotations : {mse_reg}\\n\"\n",
    ")"
   ]
  },
  {
   "cell_type": "markdown",
   "metadata": {},
   "source": [
    "## Volume Reconstruction\n",
    "\n",
    "Using the estimated rotations, attempt to reconstruct a volume.\n",
    "\n"
   ]
  },
  {
   "cell_type": "code",
   "execution_count": null,
   "metadata": {},
   "outputs": [],
   "source": [
    "logger.info(\"Begin Volume reconstruction\")\n",
    "\n",
    "# Assign the estimated rotations to the class averages\n",
    "avgs.rotations = rots_est\n",
    "\n",
    "# Create a reasonable Basis for the 3d Volume\n",
    "basis = FFBBasis3D((v.resolution,) * 3, dtype=v.dtype)\n",
    "\n",
    "# Setup an estimator to perform the back projection.\n",
    "estimator = MeanEstimator(avgs, basis)\n",
    "\n",
    "# Perform the estimation and save the volume.\n",
    "estimated_volume = estimator.estimate()\n",
    "fn = f\"estimated_volume_n{num_imgs}_c{n_classes}_m{n_nbor}_{img_size}.mrc\"\n",
    "estimated_volume.save(fn, overwrite=True)\n",
    "\n",
    "# Peek at result\n",
    "if interactive:\n",
    "    plt.imshow(np.sum(estimated_volume[0], axis=-1))\n",
    "    plt.show()"
   ]
  }
 ],
 "metadata": {
  "kernelspec": {
   "display_name": "Python 3",
   "language": "python",
   "name": "python3"
  },
  "language_info": {
   "name": "python",
   "version": "3.8.10"
  },
  "orig_nbformat": 4,
  "vscode": {
   "interpreter": {
    "hash": "916dbcbb3f70747c44a77c7bcd40155683ae19c65e1c03b4aa3499c5328201f1"
   }
  }
 },
 "nbformat": 4,
 "nbformat_minor": 2
}
