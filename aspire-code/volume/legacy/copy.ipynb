{
  "cells": [
    {
      "cell_type": "code",
      "execution_count": 1,
      "metadata": {
        "collapsed": false
      },
      "outputs": [],
      "source": [
        "%matplotlib inline"
      ]
    },
    {
      "cell_type": "markdown",
      "metadata": {},
      "source": [
        "\n",
        "# Abinitio Pipeline - Simulated Data\n",
        "\n",
        "This notebook introduces a selection of\n",
        "components corresponding to generating realistic\n",
        "simulated Cryo-EM data and running key ASPIRE-Python\n",
        "Abinitio model components as a pipeline.\n"
      ]
    },
    {
      "cell_type": "markdown",
      "metadata": {},
      "source": [
        "## Imports\n",
        "First import some of the usual suspects.\n",
        "In addition, import some classes from\n",
        "the ASPIRE package that will be used throughout this experiment.\n",
        "\n"
      ]
    },
    {
      "cell_type": "code",
      "execution_count": 9,
      "metadata": {
        "collapsed": false
      },
      "outputs": [],
      "source": [
        "import logging\n",
        "\n",
        "import numpy as np\n",
        "from scipy.spatial.transform import Rotation as sp_rot\n",
        "\n",
        "import torch\n",
        "\n",
        "from aspire.basis import FSPCABasis, FFBBasis2D, FFBBasis3D\n",
        "from aspire.source import Simulation\n",
        "from aspire.volume import Volume\n",
        "\n",
        "logger = logging.getLogger(__name__)"
      ]
    },
    {
      "cell_type": "markdown",
      "metadata": {},
      "source": [
        "## Parameters\n",
        "Some example simulation configurations.\n",
        "Small sim: img_size 32, num_imgs 10000, n_classes 1000, n_nbor 10\n",
        "Medium sim: img_size 64, num_imgs 20000, n_classes 2000, n_nbor 10\n",
        "Large sim: img_size 129, num_imgs 30000, n_classes 2000, n_nbor 20\n",
        "\n"
      ]
    },
    {
      "cell_type": "code",
      "execution_count": 10,
      "metadata": {
        "collapsed": false
      },
      "outputs": [],
      "source": [
        "sim = \"small\"\n",
        "\n",
        "if sim == \"small\":\n",
        "    interactive = True  # Draw blocking interactive plots?\n",
        "    do_cov2d = False  # Use CWF coefficients\n",
        "    img_size = 32  # Downsample the volume to a desired resolution\n",
        "    num_imgs = 10000  # How many images in our source.\n",
        "    n_classes = 1000  # How many class averages to compute.\n",
        "    n_nbor = 10  # How many neighbors to stack\n",
        "    noise_variance = 5e-7  # Set a target noise variance\n",
        "\n",
        "if sim == \"medium\":\n",
        "    interactive = True  # Draw blocking interactive plots?\n",
        "    do_cov2d = False  # Use CWF coefficients\n",
        "    img_size = 64  # Downsample the volume to a desired resolution\n",
        "    num_imgs = 20000  # How many images in our source.\n",
        "    n_classes = 2000  # How many class averages to compute.\n",
        "    n_nbor = 10  # How many neighbors to stack\n",
        "    noise_variance = 5e-5  # Set a target noise variance\n",
        "\n",
        "if sim == \"large\":\n",
        "    interactive = True  # Draw blocking interactive plots?\n",
        "    do_cov2d = False  # Use CWF coefficients\n",
        "    img_size = 129  # Downsample the volume to a desired resolution\n",
        "    num_imgs = 30000  # How many images in our source.\n",
        "    n_classes = 2000  # How many class averages to compute.\n",
        "    n_nbor = 20  # How many neighbors to stack\n",
        "    noise_variance = 5e-7  # Set a target noise variance"
      ]
    },
    {
      "cell_type": "markdown",
      "metadata": {},
      "source": [
        "## Simulation Data\n",
        "Start with a fairly hi-res volume available from EMPIAR/EMDB.\n",
        "https://www.ebi.ac.uk/emdb/EMD-2660\n",
        "https://ftp.ebi.ac.uk/pub/databases/emdb/structures/EMD-2660/map/emd_2660.map.gz\n",
        "\n"
      ]
    },
    {
      "cell_type": "code",
      "execution_count": 14,
      "metadata": {
        "collapsed": false
      },
      "outputs": [
        {
          "name": "stdout",
          "output_type": "stream",
          "text": [
            "2023-03-06 17:32:11,201 INFO [aspire.volume.volume] map-data/emd_2660.map.gz with dtype float32 loaded as <class 'numpy.float64'>\n",
            "2023-03-06 17:32:11,365 INFO [__main__] Downsampling to (32, 32, 32)\n",
            "2023-03-06 17:32:13,580 INFO [aspire.source.image] Creating Simulation with 10000 images.\n",
            "2023-03-06 17:32:13,621 INFO [aspire.source.image] Creating Simulation with 1024 images.\n"
          ]
        }
      ],
      "source": [
        "og_v = Volume.load(\"map-data/emd_2660.map.gz\", dtype=np.float64)\n",
        "\n",
        "logger.info(f\"Downsampling to {(img_size,)*3}\")\n",
        "v = og_v.downsample(img_size)\n",
        "L = v.resolution\n",
        "\n",
        "\n",
        "# Then create a filter based on that variance\n",
        "# This is an example of a custom noise profile\n",
        "\n",
        "# Finally create the Simulation\n",
        "src = Simulation(\n",
        "    L=v.resolution,\n",
        "    n=num_imgs,\n",
        "    vols=v,\n",
        "    dtype=v.dtype,\n",
        ")\n",
        "\n",
        "src = Simulation()\n"
      ]
    },
    {
      "cell_type": "code",
      "execution_count": 17,
      "metadata": {},
      "outputs": [
        {
          "name": "stdout",
          "output_type": "stream",
          "text": [
            "2023-03-06 17:32:35,257 INFO [aspire.basis.ffb_2d] Expanding 2D image in a frequency-domain Fourier–Bessel basis using the fast method.\n",
            "2023-03-06 17:32:35,268 INFO [aspire.basis.fspca] Estimating the noise of images.\n",
            "2023-03-06 17:32:35,271 INFO [aspire.noise.noise] Determining Noise variance in batches of 512\n"
          ]
        },
        {
          "name": "stderr",
          "output_type": "stream",
          "text": [
            "100%|██████████| 2/2 [00:00<00:00, 14.24it/s]"
          ]
        },
        {
          "name": "stdout",
          "output_type": "stream",
          "text": [
            "2023-03-06 17:32:35,416 INFO [aspire.noise.noise] Noise variance = 0.0012023244015967637\n",
            "2023-03-06 17:32:35,418 INFO [aspire.basis.fspca] Setting noise_var=0.0012023244053125381\n",
            "2023-03-06 17:32:35,421 INFO [aspire.covariance.covar2d] CTF filters are not included in Cov2D denoising\n"
          ]
        },
        {
          "name": "stderr",
          "output_type": "stream",
          "text": [
            "\n"
          ]
        }
      ],
      "source": [
        "# get rot vecs for each\n",
        "# normalize\n",
        "# get fspca from projections\n",
        "# train templates\n",
        "\n",
        "basis = FSPCABasis(src=src, components=10, batch_size=512)\n"
      ]
    },
    {
      "cell_type": "code",
      "execution_count": 19,
      "metadata": {},
      "outputs": [
        {
          "data": {
            "image/png": "[encoded data removed]",
            "text/plain": [
              "<Figure size 2000x1000 with 2 Axes>"
            ]
          },
          "metadata": {},
          "output_type": "display_data"
        }
      ],
      "source": [
        "src.images[0].show()"
      ]
    },
    {
      "cell_type": "code",
      "execution_count": 18,
      "metadata": {},
      "outputs": [
        {
          "ename": "RuntimeError",
          "evalue": "The data has an uncaught error that led to the planner returning NULL. This is a bug.",
          "output_type": "error",
          "traceback": [
            "\u001b[0;31m---------------------------------------------------------------------------\u001b[0m",
            "\u001b[0;31mRuntimeError\u001b[0m                              Traceback (most recent call last)",
            "Cell \u001b[0;32mIn[18], line 1\u001b[0m\n\u001b[0;32m----> 1\u001b[0m basis\u001b[39m.\u001b[39;49mcov2d\u001b[39m.\u001b[39;49mbasis\u001b[39m.\u001b[39;49mevaluate_t(src\u001b[39m.\u001b[39;49mimages[\u001b[39m0\u001b[39;49m])\n",
            "File \u001b[0;32m~/git_folder/aspire-package/src/aspire/basis/basis.py:140\u001b[0m, in \u001b[0;36mBasis.evaluate_t\u001b[0;34m(self, v)\u001b[0m\n\u001b[1;32m    138\u001b[0m v \u001b[39m=\u001b[39m v\u001b[39m.\u001b[39mreshape(\u001b[39m-\u001b[39m\u001b[39m1\u001b[39m, \u001b[39m*\u001b[39mv\u001b[39m.\u001b[39mshape[\u001b[39m-\u001b[39m\u001b[39mself\u001b[39m\u001b[39m.\u001b[39mndim :])\n\u001b[1;32m    139\u001b[0m \u001b[39m# Compute the adjoint\u001b[39;00m\n\u001b[0;32m--> 140\u001b[0m x \u001b[39m=\u001b[39m \u001b[39mself\u001b[39;49m\u001b[39m.\u001b[39;49m_evaluate_t(v)\n\u001b[1;32m    141\u001b[0m \u001b[39m# Restore stack shape\u001b[39;00m\n\u001b[1;32m    142\u001b[0m x \u001b[39m=\u001b[39m x\u001b[39m.\u001b[39mreshape(\u001b[39m*\u001b[39mstack_shape, \u001b[39mself\u001b[39m\u001b[39m.\u001b[39mcount)\n",
            "File \u001b[0;32m~/git_folder/aspire-package/src/aspire/basis/ffb_2d.py:216\u001b[0m, in \u001b[0;36mFFBBasis2D._evaluate_t\u001b[0;34m(self, x)\u001b[0m\n\u001b[1;32m    211\u001b[0m     pf[:, i_r, :] \u001b[39m=\u001b[39m pf[:, i_r, :] \u001b[39m*\u001b[39m (\n\u001b[1;32m    212\u001b[0m         \u001b[39mself\u001b[39m\u001b[39m.\u001b[39m_precomp[\u001b[39m\"\u001b[39m\u001b[39mgl_weights\u001b[39m\u001b[39m\"\u001b[39m][i_r] \u001b[39m*\u001b[39m \u001b[39mself\u001b[39m\u001b[39m.\u001b[39m_precomp[\u001b[39m\"\u001b[39m\u001b[39mgl_nodes\u001b[39m\u001b[39m\"\u001b[39m][i_r]\n\u001b[1;32m    213\u001b[0m     )\n\u001b[1;32m    215\u001b[0m \u001b[39m#  1D FFT on the angular dimension for each concentric circle\u001b[39;00m\n\u001b[0;32m--> 216\u001b[0m pf \u001b[39m=\u001b[39m \u001b[39m2\u001b[39m \u001b[39m*\u001b[39m pi \u001b[39m/\u001b[39m (\u001b[39m2\u001b[39m \u001b[39m*\u001b[39m n_theta) \u001b[39m*\u001b[39m xp\u001b[39m.\u001b[39masnumpy(fft\u001b[39m.\u001b[39;49mfft(xp\u001b[39m.\u001b[39;49masarray(pf)))\n\u001b[1;32m    218\u001b[0m \u001b[39m# This only makes it easier to slice the array later.\u001b[39;00m\n\u001b[1;32m    219\u001b[0m v \u001b[39m=\u001b[39m np\u001b[39m.\u001b[39mzeros((n_images, \u001b[39mself\u001b[39m\u001b[39m.\u001b[39mcount), dtype\u001b[39m=\u001b[39mx\u001b[39m.\u001b[39mdtype)\n",
            "File \u001b[0;32m~/git_folder/aspire-package/src/aspire/numeric/pyfftw_fft.py:48\u001b[0m, in \u001b[0;36mPyfftwFFT.fft\u001b[0;34m(self, a, axis, workers)\u001b[0m\n\u001b[1;32m     46\u001b[0m     a_ \u001b[39m=\u001b[39m pyfftw\u001b[39m.\u001b[39mempty_aligned(a\u001b[39m.\u001b[39mshape, dtype\u001b[39m=\u001b[39mcomp_type)\n\u001b[1;32m     47\u001b[0m     b \u001b[39m=\u001b[39m pyfftw\u001b[39m.\u001b[39mempty_aligned(a\u001b[39m.\u001b[39mshape, dtype\u001b[39m=\u001b[39mcomp_type)\n\u001b[0;32m---> 48\u001b[0m     \u001b[39mcls\u001b[39m \u001b[39m=\u001b[39m pyfftw\u001b[39m.\u001b[39;49mFFTW(\n\u001b[1;32m     49\u001b[0m         a_, b, axes\u001b[39m=\u001b[39;49m(axis,), direction\u001b[39m=\u001b[39;49m\u001b[39m\"\u001b[39;49m\u001b[39mFFTW_FORWARD\u001b[39;49m\u001b[39m\"\u001b[39;49m, threads\u001b[39m=\u001b[39;49m_workers(workers)\n\u001b[1;32m     50\u001b[0m     )\n\u001b[1;32m     51\u001b[0m     \u001b[39mcls\u001b[39m(a, b)\n\u001b[1;32m     52\u001b[0m \u001b[39mfinally\u001b[39;00m:\n",
            "File \u001b[0;32mpyfftw/pyfftw.pyx:1426\u001b[0m, in \u001b[0;36mpyfftw.pyfftw.FFTW.__cinit__\u001b[0;34m()\u001b[0m\n",
            "\u001b[0;31mRuntimeError\u001b[0m: The data has an uncaught error that led to the planner returning NULL. This is a bug."
          ]
        }
      ],
      "source": [
        "basis.cov2d.basis.evaluate_t(src.images[0])"
      ]
    },
    {
      "cell_type": "code",
      "execution_count": null,
      "metadata": {},
      "outputs": [],
      "source": [
        "sp_rotations = sp_rot.from_matrix(src.rotations)\n",
        "rot_vecs = sp_rotations.as_rotvec()\n",
        "rot_vecs /= np.linalg.norm(rot_vecs, axis=-1)[:,np.newaxis]\n",
        "rot_vecs = torch.from_numpy(rot_vecs)\n",
        "rot_vecs = torch.stack((rot_vecs,rot_vecs), dim=1).view(2*rot_vecs.shape[0],rot_vecs.shape[1])\n",
        "\n",
        "\n",
        "coefs = basis.spca_coef\n",
        "coefs = basis.to_complex(coefs)\n",
        "coefs = torch.from_numpy(coefs)"
      ]
    },
    {
      "cell_type": "code",
      "execution_count": null,
      "metadata": {},
      "outputs": [
        {
          "ename": "",
          "evalue": "",
          "output_type": "error",
          "traceback": [
            "\u001b[1;31mCanceled future for execute_request message before replies were done"
          ]
        },
        {
          "ename": "",
          "evalue": "",
          "output_type": "error",
          "traceback": [
            "\u001b[1;31mThe Kernel crashed while executing code in the the current cell or a previous cell. Please review the code in the cell(s) to identify a possible cause of the failure. Click <a href='https://aka.ms/vscodeJupyterKernelCrash'>here</a> for more info. View Jupyter <a href='command:jupyter.viewOutput'>log</a> for further details."
          ]
        }
      ],
      "source": [
        "rotvecs_inners = rot_vecs @ rot_vecs.T"
      ]
    },
    {
      "cell_type": "code",
      "execution_count": null,
      "metadata": {},
      "outputs": [],
      "source": [
        "def process_coefs"
      ]
    },
    {
      "cell_type": "code",
      "execution_count": 58,
      "metadata": {},
      "outputs": [],
      "source": [
        "num_templates = 40\n",
        "lr = 0.1\n",
        "\n",
        "indices = torch.randperm(len(coefs))[:num_templates]\n",
        "coefs_copy = coefs.data.clone()\n",
        "Z = coefs_copy[indices].requires_grad_(True)\n",
        "\n",
        "optim = torch.optim.Adam([Z], lr = lr)\n",
        "\n",
        "def max_filter_torch(Z, coefs, rot_vecs, basis, padding = 400):\n",
        "    num_temp = Z.shape[0]\n",
        "    num_pics = coefs.shape[0]\n",
        "    matrix_result = torch.zeros(num_temp, num_pics*2)\n",
        "\n",
        "    max_filter_bank = []\n",
        "    max_filter_bank_refl = []\n",
        "\n",
        "    for i in range(num_pics):\n",
        "        output = basis.pca_basis.max_filter_bank(coefs[i], Z, basis.max_filter_fft, padding)\n",
        "        reg_out = torch.from_numpy(output[0]).view(num_temp,1)\n",
        "        refl_out = torch.from_numpy(output[1]).view(num_temp,1)\n",
        "        matrix_result[:,2*i] = reg_out\n",
        "        matrix_result[:,2*i+1] = refl_out\n",
        "\n",
        "    return np.array(max_filter_bank), np.array(max_filter_bank_refl)\n",
        "\n",
        "\n",
        "    basis.max_filter_bank(coefs, Z, basis.max_filter_fft, 400)\n",
        "\n",
        "\n",
        "\n",
        "def max_filter_torch_on_hold(Z, coefs, rot_vecs, indices, padding = 400):\n",
        "    num_temp = Z.shape[0]\n",
        "    num_pics = coefs.shape[0]\n",
        "    matrix_result = torch.zeros(num_temp, num_pics)\n",
        "    for i in range(num_temp):\n",
        "        for j in range(num_pics): \n",
        "            # get the max filter\n",
        "            # add to result\n",
        "\n",
        "def loss(Z, coefs, rot_vecs, basis):\n",
        "    vecs = 0\n"
      ]
    },
    {
      "cell_type": "code",
      "execution_count": null,
      "metadata": {},
      "outputs": [],
      "source": [
        "def max_filter_torch_legacy(Z, coefs, rotvecs_inners, basis, padding = 400):\n",
        "    num_temp = Z.shape[0]\n",
        "    num_pics = coefs.shape[0]\n",
        "    matrix_result = torch.zeros(num_temp, num_pics*2)\n",
        "\n",
        "    for i in range(num_pics):\n",
        "        output = basis.max_filter_bank_fft(coefs[i].numpy(), Z.numpy(), padding)\n",
        "        reg_out = torch.Tensor(output[0]).view(num_temp)\n",
        "        refl_out = torch.Tensor(output[1]).view(num_temp)\n",
        "        matrix_result[:,2*i] = reg_out\n",
        "        matrix_result[:,2*i+1] = refl_out\n",
        "\n",
        "    bank_inners = torch.matmul(torch.transpose(matrix_result,0,1), matrix_result)\n",
        "\n",
        "    return torch.pow(torch.linalg.matrix_norm(bank_inners - rotvecs_inners),2)\n"
      ]
    }
  ],
  "metadata": {
    "kernelspec": {
      "display_name": "aspire_dev",
      "language": "python",
      "name": "python3"
    },
    "language_info": {
      "codemirror_mode": {
        "name": "ipython",
        "version": 3
      },
      "file_extension": ".py",
      "mimetype": "text/x-python",
      "name": "python",
      "nbconvert_exporter": "python",
      "pygments_lexer": "ipython3",
      "version": "3.8.16"
    },
    "vscode": {
      "interpreter": {
        "hash": "899245f32f85af8546ad1332c0ad4795934b8aa888e2345af7b8a0b79980e12b"
      }
    }
  },
  "nbformat": 4,
  "nbformat_minor": 0
}
