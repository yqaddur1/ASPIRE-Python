{
 "cells": [
  {
   "cell_type": "code",
   "execution_count": 1,
   "metadata": {},
   "outputs": [
    {
     "name": "stdout",
     "output_type": "stream",
     "text": [
      "2023-03-06 19:49:09,077 INFO [aspire.source.image] Creating Simulation with 200 images.\n"
     ]
    }
   ],
   "source": [
    "from aspire.source import Simulation\n",
    "from aspire.basis import FSPCABasis\n",
    "from aspire.volume import Volume\n",
    "import logging\n",
    "from aspire.noise import AnisotropicNoiseEstimator, CustomNoiseAdder\n",
    "from aspire.operators import FunctionFilter, RadialCTFFilter\n",
    "import numpy as np\n",
    "logger = logging.getLogger(__name__)\n",
    "\n",
    "interactive = True  # Draw blocking interactive plots?\n",
    "do_cov2d = False  # Use CWF coefficients\n",
    "img_size = 32  # Downsample the volume to a desired resolution\n",
    "num_imgs = 200  # How many images in our source.\n",
    "noise_variance = 5e-7  # Set a target noise variance\n",
    "\n",
    "#og_v = Volume.load(\"map-data/emd_14930.map.gz\", dtype=np.float64)\n",
    "#v = og_v.downsample(img_size)\n",
    "#L = v.resolution\n",
    "\n",
    "# Finally create the Simulation\n",
    "src = Simulation(\n",
    "    L = 32,\n",
    "    n=num_imgs,\n",
    ")"
   ]
  },
  {
   "cell_type": "code",
   "execution_count": 2,
   "metadata": {},
   "outputs": [
    {
     "name": "stdout",
     "output_type": "stream",
     "text": [
      "2023-03-06 19:49:09,201 INFO [aspire.basis.ffb_2d] Expanding 2D image in a frequency-domain Fourier–Bessel basis using the fast method.\n",
      "2023-03-06 19:49:09,280 INFO [aspire.basis.fspca] Estimating the noise of images.\n",
      "2023-03-06 19:49:09,281 INFO [aspire.noise.noise] Determining Noise variance in batches of 512\n"
     ]
    },
    {
     "name": "stderr",
     "output_type": "stream",
     "text": [
      "  0%|          | 0/1 [00:00<?, ?it/s]"
     ]
    },
    {
     "name": "stdout",
     "output_type": "stream",
     "text": [
      "2023-03-06 19:49:09,288 INFO [aspire.nufft] Trying NFFT backend cufinufft\n",
      "2023-03-06 19:49:09,290 INFO [aspire.nufft] NFFT backend cufinufft not usable:\n",
      "\tNo module named 'pycuda'\n",
      "2023-03-06 19:49:09,291 INFO [aspire.nufft] Trying NFFT backend finufft\n",
      "2023-03-06 19:49:09,301 INFO [aspire.nufft] NFFT backend finufft usable.\n",
      "2023-03-06 19:49:09,303 INFO [aspire.nufft] Trying NFFT backend pynfft\n",
      "2023-03-06 19:49:09,304 INFO [aspire.nufft] NFFT backend pynfft not usable:\n",
      "\tNo module named 'pynfft'\n",
      "2023-03-06 19:49:09,305 INFO [aspire.nufft] Selected NFFT backend = finufft.\n"
     ]
    },
    {
     "name": "stderr",
     "output_type": "stream",
     "text": [
      "100%|██████████| 1/1 [00:00<00:00,  5.13it/s]"
     ]
    },
    {
     "name": "stdout",
     "output_type": "stream",
     "text": [
      "2023-03-06 19:49:09,480 INFO [aspire.noise.noise] Noise variance = 0.0006010455368806328\n",
      "2023-03-06 19:49:09,482 INFO [aspire.basis.fspca] Setting noise_var=0.0006010455545037985\n",
      "2023-03-06 19:49:09,483 INFO [aspire.covariance.covar2d] CTF filters are not included in Cov2D denoising\n"
     ]
    },
    {
     "name": "stderr",
     "output_type": "stream",
     "text": [
      "\n"
     ]
    },
    {
     "name": "stdout",
     "output_type": "stream",
     "text": [
      "2023-03-06 19:49:09,669 WARNING [aspire.covariance.covar2d] Left side b in Batched Cov2D is not positive semidefinite.\n",
      "2023-03-06 19:49:10,395 WARNING [aspire.covariance.covar2d] Left side b after removing noise in Batched Cov2D is not positive semidefinite.\n",
      "2023-03-06 19:49:10,435 WARNING [aspire.covariance.covar2d] Covariance matrix in Batched Cov2D is not positive semidefinite.\n",
      "2023-03-06 19:49:10,438 INFO [aspire.covariance.covar2d] Convert matrices to positive semidefinite.\n"
     ]
    }
   ],
   "source": [
    "basis = FSPCABasis(src = src, components=20, batch_size=512)\n"
   ]
  },
  {
   "cell_type": "code",
   "execution_count": 3,
   "metadata": {},
   "outputs": [],
   "source": [
    "import torch\n",
    "from scipy.spatial.transform import Rotation as sp_rot\n",
    "\n",
    "sp_rotations = sp_rot.from_matrix(src.rotations)\n",
    "rot_vecs = sp_rotations.as_rotvec()\n",
    "rot_vecs /= np.linalg.norm(rot_vecs, axis=-1)[:,np.newaxis]\n",
    "rot_vecs = torch.from_numpy(rot_vecs)\n",
    "rot_vecs = torch.stack((rot_vecs,rot_vecs), dim=1).view(2*rot_vecs.shape[0],rot_vecs.shape[1])\n",
    "\n",
    "\n",
    "coefs = basis.spca_coef\n",
    "coefs = basis.to_complex(coefs)\n",
    "coefs = torch.from_numpy(coefs)"
   ]
  },
  {
   "cell_type": "code",
   "execution_count": 4,
   "metadata": {},
   "outputs": [],
   "source": [
    "rotvecs_inners = torch.matmul(rot_vecs, torch.transpose(rot_vecs,0,1))\n"
   ]
  },
  {
   "cell_type": "code",
   "execution_count": 5,
   "metadata": {},
   "outputs": [
    {
     "data": {
      "text/plain": [
       "tensor([[1.0000, 1.0000, 0.1842,  ..., 0.4410, 0.1919, 0.1919],\n",
       "        [1.0000, 1.0000, 0.1842,  ..., 0.4410, 0.1919, 0.1919],\n",
       "        [0.1842, 0.1842, 1.0000,  ..., 0.9017, 0.9535, 0.9535],\n",
       "        ...,\n",
       "        [0.4410, 0.4410, 0.9017,  ..., 1.0000, 0.9636, 0.9636],\n",
       "        [0.1919, 0.1919, 0.9535,  ..., 0.9636, 1.0000, 1.0000],\n",
       "        [0.1919, 0.1919, 0.9535,  ..., 0.9636, 1.0000, 1.0000]],\n",
       "       dtype=torch.float64)"
      ]
     },
     "execution_count": 5,
     "metadata": {},
     "output_type": "execute_result"
    }
   ],
   "source": [
    "rotvecs_inners"
   ]
  },
  {
   "cell_type": "code",
   "execution_count": 70,
   "metadata": {},
   "outputs": [],
   "source": [
    "def max_filter_bank_torch(complex_coef, Z, basis, padding):\n",
    "    num_temp = Z.shape[0]\n",
    "    fixed_ang_indices = basis.fixed_angular_indices\n",
    "    k_max = basis.k_max\n",
    "    reflected_coef = complex_coef.clone()\n",
    "    for k, k_indices in fixed_ang_indices.items():\n",
    "        reflected_coef[k_indices] = torch.pow(torch.tensor(-1), k)*torch.conj(complex_coef[k_indices])\n",
    "\n",
    "    result_reg = torch.zeros(num_temp)\n",
    "    result_refl = torch.zeros(num_temp)\n",
    "    for i in range(num_temp):\n",
    "        template = Z[i]\n",
    "        inner_with_zeros = torch.zeros(int(k_max) + padding + 1, dtype=torch.cfloat)\n",
    "        for k, k_indices in fixed_ang_indices.items():\n",
    "            zk = complex_coef[k_indices]\n",
    "            wk = template[k_indices]\n",
    "            inner_with_zeros[k] = torch.linalg.vecdot(zk,wk)\n",
    "        inner_with_zeros_refl = torch.zeros(int(k_max) + padding + 1, dtype=torch.cfloat)\n",
    "        for k, k_indices in fixed_ang_indices.items():\n",
    "            zkr = reflected_coef[k_indices]\n",
    "            wkr = template[k_indices]\n",
    "            inner_with_zeros_refl[k] = torch.linalg.vecdot(zkr,wkr)\n",
    "        \n",
    "        transformed_inner = torch.fft.fft(inner_with_zeros)\n",
    "        transformed_inner_refl = torch.fft.fft(inner_with_zeros_refl)\n",
    "        real_part = torch.max(torch.real(transformed_inner))\n",
    "        real_part_refl = torch.max(torch.real(transformed_inner_refl))\n",
    "        \n",
    "        result_reg[i] = real_part\n",
    "        result_refl[i] = real_part_refl\n",
    "\n",
    "    return torch.transpose(torch.stack((result_reg, result_refl), dim = 1),0,1)\n"
   ]
  },
  {
   "cell_type": "code",
   "execution_count": 52,
   "metadata": {},
   "outputs": [],
   "source": [
    "def max_filter_torch(Z, coefs, rotvecs_inners, basis, padding = 400):\n",
    "    num_temp = Z.shape[0]\n",
    "    num_pics = coefs.shape[0]\n",
    "    matrix_result = torch.zeros(num_temp, num_pics*2)\n",
    "\n",
    "    for i in range(num_pics):\n",
    "        output = max_filter_bank_torch(coefs[i], Z, basis, padding)\n",
    "        reg_out = torch.Tensor(output[0]).view(num_temp)\n",
    "        refl_out = torch.Tensor(output[1]).view(num_temp)\n",
    "        matrix_result[:,2*i] = reg_out\n",
    "        matrix_result[:,2*i+1] = refl_out\n",
    "\n",
    "    bank_inners = torch.matmul(torch.transpose(matrix_result,0,1), matrix_result)\n",
    "\n",
    "    return torch.pow(torch.linalg.matrix_norm(bank_inners - rotvecs_inners),2)\n"
   ]
  },
  {
   "cell_type": "code",
   "execution_count": 45,
   "metadata": {},
   "outputs": [],
   "source": [
    "def max_filter_torch(Z, coefs, rotvecs_inners, basis, padding = 400):\n",
    "    num_temp = Z.shape[0]\n",
    "    num_pics = coefs.shape[0]\n",
    "    matrix_result = torch.zeros(num_temp, num_pics*2)\n",
    "\n",
    "    for i in range(num_pics):\n",
    "        output = basis.max_filter_bank_fft(coefs[i].numpy(), Z.numpy(), padding)\n",
    "        reg_out = torch.Tensor(output[0]).view(num_temp)\n",
    "        refl_out = torch.Tensor(output[1]).view(num_temp)\n",
    "        matrix_result[:,2*i] = reg_out\n",
    "        matrix_result[:,2*i+1] = refl_out\n",
    "\n",
    "    bank_inners = torch.matmul(torch.transpose(matrix_result,0,1), matrix_result)\n",
    "\n",
    "    return torch.pow(torch.linalg.matrix_norm(bank_inners - rotvecs_inners),2)\n"
   ]
  },
  {
   "cell_type": "code",
   "execution_count": 80,
   "metadata": {},
   "outputs": [
    {
     "data": {
      "application/vnd.jupyter.widget-view+json": {
       "model_id": "a4fe831a688746cf854b172f9804bceb",
       "version_major": 2,
       "version_minor": 0
      },
      "text/plain": [
       "  0%|          | 0/1000 [00:00<?, ?it/s]"
      ]
     },
     "metadata": {},
     "output_type": "display_data"
    },
    {
     "ename": "KeyboardInterrupt",
     "evalue": "",
     "output_type": "error",
     "traceback": [
      "\u001b[0;31m---------------------------------------------------------------------------\u001b[0m",
      "\u001b[0;31mKeyboardInterrupt\u001b[0m                         Traceback (most recent call last)",
      "Cell \u001b[0;32mIn[80], line 26\u001b[0m\n\u001b[1;32m     24\u001b[0m W_hist\u001b[39m.\u001b[39mappend(W\u001b[39m.\u001b[39mdata\u001b[39m.\u001b[39mclone()\u001b[39m.\u001b[39mnumpy())\n\u001b[1;32m     25\u001b[0m \u001b[39m#W.requires_grad = True\u001b[39;00m\n\u001b[0;32m---> 26\u001b[0m W\u001b[39m.\u001b[39;49mbackward()\n\u001b[1;32m     27\u001b[0m Zgrad_hist\u001b[39m.\u001b[39mappend(Z\u001b[39m.\u001b[39mgrad\u001b[39m.\u001b[39mclone())\n\u001b[1;32m     28\u001b[0m optim\u001b[39m.\u001b[39mstep()\n",
      "File \u001b[0;32m~/miniconda3/envs/aspire_dev/lib/python3.8/site-packages/torch/_tensor.py:488\u001b[0m, in \u001b[0;36mTensor.backward\u001b[0;34m(self, gradient, retain_graph, create_graph, inputs)\u001b[0m\n\u001b[1;32m    478\u001b[0m \u001b[39mif\u001b[39;00m has_torch_function_unary(\u001b[39mself\u001b[39m):\n\u001b[1;32m    479\u001b[0m     \u001b[39mreturn\u001b[39;00m handle_torch_function(\n\u001b[1;32m    480\u001b[0m         Tensor\u001b[39m.\u001b[39mbackward,\n\u001b[1;32m    481\u001b[0m         (\u001b[39mself\u001b[39m,),\n\u001b[0;32m   (...)\u001b[0m\n\u001b[1;32m    486\u001b[0m         inputs\u001b[39m=\u001b[39minputs,\n\u001b[1;32m    487\u001b[0m     )\n\u001b[0;32m--> 488\u001b[0m torch\u001b[39m.\u001b[39;49mautograd\u001b[39m.\u001b[39;49mbackward(\n\u001b[1;32m    489\u001b[0m     \u001b[39mself\u001b[39;49m, gradient, retain_graph, create_graph, inputs\u001b[39m=\u001b[39;49minputs\n\u001b[1;32m    490\u001b[0m )\n",
      "File \u001b[0;32m~/miniconda3/envs/aspire_dev/lib/python3.8/site-packages/torch/autograd/__init__.py:197\u001b[0m, in \u001b[0;36mbackward\u001b[0;34m(tensors, grad_tensors, retain_graph, create_graph, grad_variables, inputs)\u001b[0m\n\u001b[1;32m    192\u001b[0m     retain_graph \u001b[39m=\u001b[39m create_graph\n\u001b[1;32m    194\u001b[0m \u001b[39m# The reason we repeat same the comment below is that\u001b[39;00m\n\u001b[1;32m    195\u001b[0m \u001b[39m# some Python versions print out the first line of a multi-line function\u001b[39;00m\n\u001b[1;32m    196\u001b[0m \u001b[39m# calls in the traceback and some print out the last line\u001b[39;00m\n\u001b[0;32m--> 197\u001b[0m Variable\u001b[39m.\u001b[39;49m_execution_engine\u001b[39m.\u001b[39;49mrun_backward(  \u001b[39m# Calls into the C++ engine to run the backward pass\u001b[39;49;00m\n\u001b[1;32m    198\u001b[0m     tensors, grad_tensors_, retain_graph, create_graph, inputs,\n\u001b[1;32m    199\u001b[0m     allow_unreachable\u001b[39m=\u001b[39;49m\u001b[39mTrue\u001b[39;49;00m, accumulate_grad\u001b[39m=\u001b[39;49m\u001b[39mTrue\u001b[39;49;00m)\n",
      "\u001b[0;31mKeyboardInterrupt\u001b[0m: "
     ]
    }
   ],
   "source": [
    "from tqdm.notebook import tqdm\n",
    "torch.set_grad_enabled(True)  \n",
    "\n",
    "num_templates = 40\n",
    "lr = 0.1\n",
    "\n",
    "indices = torch.randperm(len(coefs))[:num_templates]\n",
    "coefs_copy = coefs.data.clone()\n",
    "Z = coefs_copy[indices].requires_grad_(True)\n",
    "\n",
    "#max_filter_torch(Z, coefs, rotvecs_inners, basis, padding=400)\n",
    "\n",
    "#basis.max_filter_bank_fft(coefs[0].numpy(), Z.data.numpy(), 400)\n",
    "\n",
    "optim = torch.optim.Adam([Z], lr = lr)\n",
    "\n",
    "steps = 1000\n",
    "Z_hist = [Z.data.clone()]\n",
    "W_hist = []\n",
    "Zgrad_hist = []\n",
    "for s in tqdm(range(steps)):\n",
    "  optim.zero_grad()\n",
    "  W = max_filter_torch(Z, coefs, rotvecs_inners, basis, padding=400)\n",
    "  W_hist.append(W.data.clone().numpy())\n",
    "  #W.requires_grad = True\n",
    "  W.backward()\n",
    "  Zgrad_hist.append(Z.grad.clone())\n",
    "  optim.step()\n",
    "  Z_hist.append(Z.data.clone())\n"
   ]
  },
  {
   "cell_type": "code",
   "execution_count": 83,
   "metadata": {},
   "outputs": [
    {
     "data": {
      "text/plain": [
       "[<matplotlib.lines.Line2D at 0x7f92c00cee20>]"
      ]
     },
     "execution_count": 83,
     "metadata": {},
     "output_type": "execute_result"
    },
    {
     "data": {
      "image/png": "[encoded data removed]",
      "text/plain": [
       "<Figure size 640x480 with 1 Axes>"
      ]
     },
     "metadata": {},
     "output_type": "display_data"
    }
   ],
   "source": [
    "import matplotlib.pyplot as plt\n",
    "plt.plot(W_hist[200:])"
   ]
  }
 ],
 "metadata": {
  "kernelspec": {
   "display_name": "aspire_dev",
   "language": "python",
   "name": "python3"
  },
  "language_info": {
   "codemirror_mode": {
    "name": "ipython",
    "version": 3
   },
   "file_extension": ".py",
   "mimetype": "text/x-python",
   "name": "python",
   "nbconvert_exporter": "python",
   "pygments_lexer": "ipython3",
   "version": "3.8.16"
  },
  "orig_nbformat": 4
 },
 "nbformat": 4,
 "nbformat_minor": 2
}
